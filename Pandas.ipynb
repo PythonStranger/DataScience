{
 "cells": [
  {
   "cell_type": "code",
   "execution_count": 1,
   "metadata": {},
   "outputs": [],
   "source": [
    "# Get stock data \n",
    "import pandas as pd\n",
    "from datetime import datetime\n",
    "pd.core.common.is_list_like = pd.api.types.is_list_like\n",
    "import pandas_datareader as web\n",
    "import quandl\n",
    "import pickle\n",
    "import matplotlib.pyplot as plt\n",
    "from matplotlib import style\n",
    "style.use('fivethirtyeight')"
   ]
  },
  {
   "cell_type": "markdown",
   "metadata": {},
   "source": [
    "#### set time"
   ]
  },
  {
   "cell_type": "code",
   "execution_count": 4,
   "metadata": {},
   "outputs": [],
   "source": [
    "start = datetime(2014,1,1)\n",
    "end = datetime.now()"
   ]
  },
  {
   "cell_type": "code",
   "execution_count": 57,
   "metadata": {},
   "outputs": [
    {
     "name": "stdout",
     "output_type": "stream",
     "text": [
      "5y\n"
     ]
    }
   ],
   "source": [
    "df = web.DataReader(\"BABA\", \"iex\", start, end)"
   ]
  },
  {
   "cell_type": "code",
   "execution_count": 49,
   "metadata": {},
   "outputs": [
    {
     "data": {
      "text/plain": [
       "Index(['2014-09-19', '2014-09-22', '2014-09-23', '2014-09-24', '2014-09-25',\n",
       "       '2014-09-26', '2014-09-29', '2014-09-30', '2014-10-01', '2014-10-02',\n",
       "       ...\n",
       "       '2018-09-26', '2018-09-27', '2018-09-28', '2018-10-01', '2018-10-02',\n",
       "       '2018-10-03', '2018-10-04', '2018-10-05', '2018-10-08', '2018-10-09'],\n",
       "      dtype='object', name='date', length=1022)"
      ]
     },
     "execution_count": 49,
     "metadata": {},
     "output_type": "execute_result"
    }
   ],
   "source": [
    "df.index"
   ]
  },
  {
   "cell_type": "markdown",
   "metadata": {},
   "source": [
    "#### set index and reset index(means let index as 0....n)"
   ]
  },
  {
   "cell_type": "code",
   "execution_count": 62,
   "metadata": {},
   "outputs": [
    {
     "data": {
      "text/html": [
       "<div>\n",
       "<style scoped>\n",
       "    .dataframe tbody tr th:only-of-type {\n",
       "        vertical-align: middle;\n",
       "    }\n",
       "\n",
       "    .dataframe tbody tr th {\n",
       "        vertical-align: top;\n",
       "    }\n",
       "\n",
       "    .dataframe thead th {\n",
       "        text-align: right;\n",
       "    }\n",
       "</style>\n",
       "<table border=\"1\" class=\"dataframe\">\n",
       "  <thead>\n",
       "    <tr style=\"text-align: right;\">\n",
       "      <th></th>\n",
       "      <th>level_0</th>\n",
       "      <th>index</th>\n",
       "      <th>open</th>\n",
       "      <th>high</th>\n",
       "      <th>low</th>\n",
       "      <th>close</th>\n",
       "      <th>volume</th>\n",
       "    </tr>\n",
       "    <tr>\n",
       "      <th>date</th>\n",
       "      <th></th>\n",
       "      <th></th>\n",
       "      <th></th>\n",
       "      <th></th>\n",
       "      <th></th>\n",
       "      <th></th>\n",
       "      <th></th>\n",
       "    </tr>\n",
       "  </thead>\n",
       "  <tbody>\n",
       "    <tr>\n",
       "      <th>2014-09-19</th>\n",
       "      <td>0</td>\n",
       "      <td>0</td>\n",
       "      <td>92.70</td>\n",
       "      <td>99.70</td>\n",
       "      <td>89.95</td>\n",
       "      <td>93.89</td>\n",
       "      <td>271879435</td>\n",
       "    </tr>\n",
       "    <tr>\n",
       "      <th>2014-09-22</th>\n",
       "      <td>1</td>\n",
       "      <td>1</td>\n",
       "      <td>92.70</td>\n",
       "      <td>92.95</td>\n",
       "      <td>89.50</td>\n",
       "      <td>89.89</td>\n",
       "      <td>66657827</td>\n",
       "    </tr>\n",
       "    <tr>\n",
       "      <th>2014-09-23</th>\n",
       "      <td>2</td>\n",
       "      <td>2</td>\n",
       "      <td>88.94</td>\n",
       "      <td>90.48</td>\n",
       "      <td>86.62</td>\n",
       "      <td>87.17</td>\n",
       "      <td>39009788</td>\n",
       "    </tr>\n",
       "    <tr>\n",
       "      <th>2014-09-24</th>\n",
       "      <td>3</td>\n",
       "      <td>3</td>\n",
       "      <td>88.47</td>\n",
       "      <td>90.57</td>\n",
       "      <td>87.22</td>\n",
       "      <td>90.57</td>\n",
       "      <td>32088108</td>\n",
       "    </tr>\n",
       "    <tr>\n",
       "      <th>2014-09-25</th>\n",
       "      <td>4</td>\n",
       "      <td>4</td>\n",
       "      <td>91.09</td>\n",
       "      <td>91.50</td>\n",
       "      <td>88.50</td>\n",
       "      <td>88.92</td>\n",
       "      <td>28597506</td>\n",
       "    </tr>\n",
       "  </tbody>\n",
       "</table>\n",
       "</div>"
      ],
      "text/plain": [
       "            level_0  index   open   high    low  close     volume\n",
       "date                                                             \n",
       "2014-09-19        0      0  92.70  99.70  89.95  93.89  271879435\n",
       "2014-09-22        1      1  92.70  92.95  89.50  89.89   66657827\n",
       "2014-09-23        2      2  88.94  90.48  86.62  87.17   39009788\n",
       "2014-09-24        3      3  88.47  90.57  87.22  90.57   32088108\n",
       "2014-09-25        4      4  91.09  91.50  88.50  88.92   28597506"
      ]
     },
     "execution_count": 62,
     "metadata": {},
     "output_type": "execute_result"
    }
   ],
   "source": [
    "# df.reset_index(inplace=True) #reset index the original index will replace to the next place\n",
    "df.set_index('date',inplace=True) #but the set index will not do the same thing, it will just replace the index\n",
    "df.head() # inplace = True means change the dataframe itself"
   ]
  },
  {
   "cell_type": "code",
   "execution_count": null,
   "metadata": {},
   "outputs": [],
   "source": []
  },
  {
   "cell_type": "markdown",
   "metadata": {},
   "source": [
    "#### data visualization"
   ]
  },
  {
   "cell_type": "code",
   "execution_count": 8,
   "metadata": {},
   "outputs": [],
   "source": [
    "import matplotlib.pyplot as plt\n",
    "from matplotlib import style"
   ]
  },
  {
   "cell_type": "code",
   "execution_count": 9,
   "metadata": {},
   "outputs": [],
   "source": [
    "style.use('fivethirtyeight')"
   ]
  },
  {
   "cell_type": "markdown",
   "metadata": {},
   "source": [
    "#### show close column"
   ]
  },
  {
   "cell_type": "code",
   "execution_count": 10,
   "metadata": {},
   "outputs": [
    {
     "data": {
      "image/png": "[encoded data removed]",
      "text/plain": [
       "<Figure size 432x288 with 1 Axes>"
      ]
     },
     "metadata": {},
     "output_type": "display_data"
    }
   ],
   "source": [
    "df['close'].plot()\n",
    "plt.legend()\n",
    "plt.show()"
   ]
  },
  {
   "cell_type": "markdown",
   "metadata": {},
   "source": [
    "#### pandas basic "
   ]
  },
  {
   "cell_type": "code",
   "execution_count": 11,
   "metadata": {},
   "outputs": [],
   "source": [
    "web_stats = {'Day':[1,2,3,4,5,6],\n",
    "             'Visitors':[43,34,65,56,29,76],\n",
    "             'Bounce Rate':[65,67,78,65,45,52]}"
   ]
  },
  {
   "cell_type": "code",
   "execution_count": 12,
   "metadata": {},
   "outputs": [],
   "source": [
    "df = pd.DataFrame(web_stats)"
   ]
  },
  {
   "cell_type": "markdown",
   "metadata": {},
   "source": [
    "#### set index"
   ]
  },
  {
   "cell_type": "code",
   "execution_count": 13,
   "metadata": {},
   "outputs": [],
   "source": [
    "df.set_index('Day',inplace=True)"
   ]
  },
  {
   "cell_type": "code",
   "execution_count": 14,
   "metadata": {},
   "outputs": [
    {
     "data": {
      "image/png": "[encoded data removed]",
      "text/plain": [
       "<Figure size 432x288 with 1 Axes>"
      ]
     },
     "metadata": {},
     "output_type": "display_data"
    }
   ],
   "source": [
    "df.plot()\n",
    "plt.show()"
   ]
  },
  {
   "cell_type": "code",
   "execution_count": 15,
   "metadata": {},
   "outputs": [
    {
     "data": {
      "image/png": "[encoded data removed]",
      "text/plain": [
       "<Figure size 432x288 with 1 Axes>"
      ]
     },
     "metadata": {},
     "output_type": "display_data"
    }
   ],
   "source": [
    "df.plot()\n",
    "plt.legend()\n",
    "plt.show()"
   ]
  },
  {
   "cell_type": "markdown",
   "metadata": {},
   "source": [
    "#### load csv data"
   ]
  },
  {
   "cell_type": "code",
   "execution_count": 50,
   "metadata": {},
   "outputs": [],
   "source": [
    "df = pd.read_csv('/Users/tianxiang/Downloads/SP500 2000.csv')"
   ]
  },
  {
   "cell_type": "code",
   "execution_count": 54,
   "metadata": {},
   "outputs": [],
   "source": [
    "df.set_index('Date',inplace=True)"
   ]
  },
  {
   "cell_type": "markdown",
   "metadata": {},
   "source": [
    "#### header and set header and when load data set index to one column"
   ]
  },
  {
   "cell_type": "code",
   "execution_count": 20,
   "metadata": {},
   "outputs": [],
   "source": [
    "df = pd.read_csv('/Users/tianxiang/Downloads/SP500 2000.csv',index_col=0)"
   ]
  },
  {
   "cell_type": "code",
   "execution_count": 21,
   "metadata": {},
   "outputs": [
    {
     "data": {
      "text/html": [
       "<div>\n",
       "<style scoped>\n",
       "    .dataframe tbody tr th:only-of-type {\n",
       "        vertical-align: middle;\n",
       "    }\n",
       "\n",
       "    .dataframe tbody tr th {\n",
       "        vertical-align: top;\n",
       "    }\n",
       "\n",
       "    .dataframe thead th {\n",
       "        text-align: right;\n",
       "    }\n",
       "</style>\n",
       "<table border=\"1\" class=\"dataframe\">\n",
       "  <thead>\n",
       "    <tr style=\"text-align: right;\">\n",
       "      <th></th>\n",
       "      <th>Lag 1</th>\n",
       "      <th>Lag 2</th>\n",
       "      <th>Lag 3</th>\n",
       "      <th>Lag 4</th>\n",
       "      <th>Lag 5</th>\n",
       "      <th>Volume</th>\n",
       "      <th>Return</th>\n",
       "      <th>Direction</th>\n",
       "    </tr>\n",
       "    <tr>\n",
       "      <th>Date</th>\n",
       "      <th></th>\n",
       "      <th></th>\n",
       "      <th></th>\n",
       "      <th></th>\n",
       "      <th></th>\n",
       "      <th></th>\n",
       "      <th></th>\n",
       "      <th></th>\n",
       "    </tr>\n",
       "  </thead>\n",
       "  <tbody>\n",
       "    <tr>\n",
       "      <th>1/11/2000</th>\n",
       "      <td>0.00483</td>\n",
       "      <td>0.01161</td>\n",
       "      <td>0.00041</td>\n",
       "      <td>0.00083</td>\n",
       "      <td>-0.01698</td>\n",
       "      <td>1014000000</td>\n",
       "      <td>-0.005710</td>\n",
       "      <td>DOWN</td>\n",
       "    </tr>\n",
       "    <tr>\n",
       "      <th>1/12/2000</th>\n",
       "      <td>-0.00571</td>\n",
       "      <td>0.00483</td>\n",
       "      <td>0.01161</td>\n",
       "      <td>0.00041</td>\n",
       "      <td>0.00083</td>\n",
       "      <td>974600000</td>\n",
       "      <td>-0.001909</td>\n",
       "      <td>DOWN</td>\n",
       "    </tr>\n",
       "    <tr>\n",
       "      <th>1/13/2000</th>\n",
       "      <td>-0.00191</td>\n",
       "      <td>-0.00571</td>\n",
       "      <td>0.00483</td>\n",
       "      <td>0.01161</td>\n",
       "      <td>0.00041</td>\n",
       "      <td>1030400000</td>\n",
       "      <td>0.005253</td>\n",
       "      <td>UP</td>\n",
       "    </tr>\n",
       "    <tr>\n",
       "      <th>1/14/2000</th>\n",
       "      <td>0.00525</td>\n",
       "      <td>-0.00191</td>\n",
       "      <td>-0.00571</td>\n",
       "      <td>0.00483</td>\n",
       "      <td>0.01161</td>\n",
       "      <td>1085900000</td>\n",
       "      <td>0.004610</td>\n",
       "      <td>UP</td>\n",
       "    </tr>\n",
       "    <tr>\n",
       "      <th>1/18/2000</th>\n",
       "      <td>0.00461</td>\n",
       "      <td>0.00525</td>\n",
       "      <td>-0.00191</td>\n",
       "      <td>-0.00571</td>\n",
       "      <td>0.00483</td>\n",
       "      <td>1056700000</td>\n",
       "      <td>-0.002977</td>\n",
       "      <td>DOWN</td>\n",
       "    </tr>\n",
       "  </tbody>\n",
       "</table>\n",
       "</div>"
      ],
      "text/plain": [
       "             Lag 1    Lag 2    Lag 3    Lag 4    Lag 5      Volume    Return  \\\n",
       "Date                                                                           \n",
       "1/11/2000  0.00483  0.01161  0.00041  0.00083 -0.01698  1014000000 -0.005710   \n",
       "1/12/2000 -0.00571  0.00483  0.01161  0.00041  0.00083   974600000 -0.001909   \n",
       "1/13/2000 -0.00191 -0.00571  0.00483  0.01161  0.00041  1030400000  0.005253   \n",
       "1/14/2000  0.00525 -0.00191 -0.00571  0.00483  0.01161  1085900000  0.004610   \n",
       "1/18/2000  0.00461  0.00525 -0.00191 -0.00571  0.00483  1056700000 -0.002977   \n",
       "\n",
       "          Direction  \n",
       "Date                 \n",
       "1/11/2000      DOWN  \n",
       "1/12/2000      DOWN  \n",
       "1/13/2000        UP  \n",
       "1/14/2000        UP  \n",
       "1/18/2000      DOWN  "
      ]
     },
     "execution_count": 21,
     "metadata": {},
     "output_type": "execute_result"
    }
   ],
   "source": [
    "df.head()"
   ]
  },
  {
   "cell_type": "markdown",
   "metadata": {},
   "source": [
    "#### to html"
   ]
  },
  {
   "cell_type": "code",
   "execution_count": 62,
   "metadata": {},
   "outputs": [],
   "source": [
    "df.to_html('SP500.html')"
   ]
  },
  {
   "cell_type": "markdown",
   "metadata": {},
   "source": [
    "#### reset header"
   ]
  },
  {
   "cell_type": "code",
   "execution_count": 64,
   "metadata": {},
   "outputs": [
    {
     "data": {
      "text/html": [
       "<div>\n",
       "<style scoped>\n",
       "    .dataframe tbody tr th:only-of-type {\n",
       "        vertical-align: middle;\n",
       "    }\n",
       "\n",
       "    .dataframe tbody tr th {\n",
       "        vertical-align: top;\n",
       "    }\n",
       "\n",
       "    .dataframe thead th {\n",
       "        text-align: right;\n",
       "    }\n",
       "</style>\n",
       "<table border=\"1\" class=\"dataframe\">\n",
       "  <thead>\n",
       "    <tr style=\"text-align: right;\">\n",
       "      <th></th>\n",
       "      <th>Lag 1</th>\n",
       "      <th>Lag 2</th>\n",
       "      <th>Lag 3</th>\n",
       "      <th>Lag 4</th>\n",
       "      <th>Lag 5</th>\n",
       "      <th>Volume</th>\n",
       "      <th>Return</th>\n",
       "      <th>Direction</th>\n",
       "    </tr>\n",
       "    <tr>\n",
       "      <th>Date</th>\n",
       "      <th></th>\n",
       "      <th></th>\n",
       "      <th></th>\n",
       "      <th></th>\n",
       "      <th></th>\n",
       "      <th></th>\n",
       "      <th></th>\n",
       "      <th></th>\n",
       "    </tr>\n",
       "  </thead>\n",
       "  <tbody>\n",
       "    <tr>\n",
       "      <th>1/11/2000</th>\n",
       "      <td>0.00483</td>\n",
       "      <td>0.01161</td>\n",
       "      <td>0.00041</td>\n",
       "      <td>0.00083</td>\n",
       "      <td>-0.01698</td>\n",
       "      <td>1014000000</td>\n",
       "      <td>-0.005710</td>\n",
       "      <td>DOWN</td>\n",
       "    </tr>\n",
       "    <tr>\n",
       "      <th>1/12/2000</th>\n",
       "      <td>-0.00571</td>\n",
       "      <td>0.00483</td>\n",
       "      <td>0.01161</td>\n",
       "      <td>0.00041</td>\n",
       "      <td>0.00083</td>\n",
       "      <td>974600000</td>\n",
       "      <td>-0.001909</td>\n",
       "      <td>DOWN</td>\n",
       "    </tr>\n",
       "    <tr>\n",
       "      <th>1/13/2000</th>\n",
       "      <td>-0.00191</td>\n",
       "      <td>-0.00571</td>\n",
       "      <td>0.00483</td>\n",
       "      <td>0.01161</td>\n",
       "      <td>0.00041</td>\n",
       "      <td>1030400000</td>\n",
       "      <td>0.005253</td>\n",
       "      <td>UP</td>\n",
       "    </tr>\n",
       "    <tr>\n",
       "      <th>1/14/2000</th>\n",
       "      <td>0.00525</td>\n",
       "      <td>-0.00191</td>\n",
       "      <td>-0.00571</td>\n",
       "      <td>0.00483</td>\n",
       "      <td>0.01161</td>\n",
       "      <td>1085900000</td>\n",
       "      <td>0.004610</td>\n",
       "      <td>UP</td>\n",
       "    </tr>\n",
       "    <tr>\n",
       "      <th>1/18/2000</th>\n",
       "      <td>0.00461</td>\n",
       "      <td>0.00525</td>\n",
       "      <td>-0.00191</td>\n",
       "      <td>-0.00571</td>\n",
       "      <td>0.00483</td>\n",
       "      <td>1056700000</td>\n",
       "      <td>-0.002977</td>\n",
       "      <td>DOWN</td>\n",
       "    </tr>\n",
       "  </tbody>\n",
       "</table>\n",
       "</div>"
      ],
      "text/plain": [
       "             Lag 1    Lag 2    Lag 3    Lag 4    Lag 5      Volume    Return  \\\n",
       "Date                                                                           \n",
       "1/11/2000  0.00483  0.01161  0.00041  0.00083 -0.01698  1014000000 -0.005710   \n",
       "1/12/2000 -0.00571  0.00483  0.01161  0.00041  0.00083   974600000 -0.001909   \n",
       "1/13/2000 -0.00191 -0.00571  0.00483  0.01161  0.00041  1030400000  0.005253   \n",
       "1/14/2000  0.00525 -0.00191 -0.00571  0.00483  0.01161  1085900000  0.004610   \n",
       "1/18/2000  0.00461  0.00525 -0.00191 -0.00571  0.00483  1056700000 -0.002977   \n",
       "\n",
       "          Direction  \n",
       "Date                 \n",
       "1/11/2000      DOWN  \n",
       "1/12/2000      DOWN  \n",
       "1/13/2000        UP  \n",
       "1/14/2000        UP  \n",
       "1/18/2000      DOWN  "
      ]
     },
     "execution_count": 64,
     "metadata": {},
     "output_type": "execute_result"
    }
   ],
   "source": [
    "df.head()"
   ]
  },
  {
   "cell_type": "code",
   "execution_count": 69,
   "metadata": {},
   "outputs": [],
   "source": [
    "df.rename(columns={'Lag 1':'log'},inplace=True)"
   ]
  },
  {
   "cell_type": "markdown",
   "metadata": {},
   "source": [
    "#### set columns name when load no name data"
   ]
  },
  {
   "cell_type": "code",
   "execution_count": 22,
   "metadata": {},
   "outputs": [],
   "source": [
    "df.to_csv('test.csv',header=False)\n",
    "df1 = pd.read_csv('test.csv',names =['Date','Dat1e','Dat2e','Da3te','Da4te','Dat5e','Dat6e','D9ate','Da0te'])"
   ]
  },
  {
   "cell_type": "code",
   "execution_count": 23,
   "metadata": {},
   "outputs": [
    {
     "data": {
      "text/html": [
       "<div>\n",
       "<style scoped>\n",
       "    .dataframe tbody tr th:only-of-type {\n",
       "        vertical-align: middle;\n",
       "    }\n",
       "\n",
       "    .dataframe tbody tr th {\n",
       "        vertical-align: top;\n",
       "    }\n",
       "\n",
       "    .dataframe thead th {\n",
       "        text-align: right;\n",
       "    }\n",
       "</style>\n",
       "<table border=\"1\" class=\"dataframe\">\n",
       "  <thead>\n",
       "    <tr style=\"text-align: right;\">\n",
       "      <th></th>\n",
       "      <th>Date</th>\n",
       "      <th>Dat1e</th>\n",
       "      <th>Dat2e</th>\n",
       "      <th>Da3te</th>\n",
       "      <th>Da4te</th>\n",
       "      <th>Dat5e</th>\n",
       "      <th>Dat6e</th>\n",
       "      <th>D9ate</th>\n",
       "      <th>Da0te</th>\n",
       "    </tr>\n",
       "  </thead>\n",
       "  <tbody>\n",
       "    <tr>\n",
       "      <th>0</th>\n",
       "      <td>1/11/2000</td>\n",
       "      <td>0.00483</td>\n",
       "      <td>0.01161</td>\n",
       "      <td>0.00041</td>\n",
       "      <td>0.00083</td>\n",
       "      <td>-0.01698</td>\n",
       "      <td>1014000000</td>\n",
       "      <td>-0.005710</td>\n",
       "      <td>DOWN</td>\n",
       "    </tr>\n",
       "    <tr>\n",
       "      <th>1</th>\n",
       "      <td>1/12/2000</td>\n",
       "      <td>-0.00571</td>\n",
       "      <td>0.00483</td>\n",
       "      <td>0.01161</td>\n",
       "      <td>0.00041</td>\n",
       "      <td>0.00083</td>\n",
       "      <td>974600000</td>\n",
       "      <td>-0.001909</td>\n",
       "      <td>DOWN</td>\n",
       "    </tr>\n",
       "    <tr>\n",
       "      <th>2</th>\n",
       "      <td>1/13/2000</td>\n",
       "      <td>-0.00191</td>\n",
       "      <td>-0.00571</td>\n",
       "      <td>0.00483</td>\n",
       "      <td>0.01161</td>\n",
       "      <td>0.00041</td>\n",
       "      <td>1030400000</td>\n",
       "      <td>0.005253</td>\n",
       "      <td>UP</td>\n",
       "    </tr>\n",
       "    <tr>\n",
       "      <th>3</th>\n",
       "      <td>1/14/2000</td>\n",
       "      <td>0.00525</td>\n",
       "      <td>-0.00191</td>\n",
       "      <td>-0.00571</td>\n",
       "      <td>0.00483</td>\n",
       "      <td>0.01161</td>\n",
       "      <td>1085900000</td>\n",
       "      <td>0.004610</td>\n",
       "      <td>UP</td>\n",
       "    </tr>\n",
       "    <tr>\n",
       "      <th>4</th>\n",
       "      <td>1/18/2000</td>\n",
       "      <td>0.00461</td>\n",
       "      <td>0.00525</td>\n",
       "      <td>-0.00191</td>\n",
       "      <td>-0.00571</td>\n",
       "      <td>0.00483</td>\n",
       "      <td>1056700000</td>\n",
       "      <td>-0.002977</td>\n",
       "      <td>DOWN</td>\n",
       "    </tr>\n",
       "  </tbody>\n",
       "</table>\n",
       "</div>"
      ],
      "text/plain": [
       "        Date    Dat1e    Dat2e    Da3te    Da4te    Dat5e       Dat6e  \\\n",
       "0  1/11/2000  0.00483  0.01161  0.00041  0.00083 -0.01698  1014000000   \n",
       "1  1/12/2000 -0.00571  0.00483  0.01161  0.00041  0.00083   974600000   \n",
       "2  1/13/2000 -0.00191 -0.00571  0.00483  0.01161  0.00041  1030400000   \n",
       "3  1/14/2000  0.00525 -0.00191 -0.00571  0.00483  0.01161  1085900000   \n",
       "4  1/18/2000  0.00461  0.00525 -0.00191 -0.00571  0.00483  1056700000   \n",
       "\n",
       "      D9ate Da0te  \n",
       "0 -0.005710  DOWN  \n",
       "1 -0.001909  DOWN  \n",
       "2  0.005253    UP  \n",
       "3  0.004610    UP  \n",
       "4 -0.002977  DOWN  "
      ]
     },
     "execution_count": 23,
     "metadata": {},
     "output_type": "execute_result"
    }
   ],
   "source": [
    "df1.head()"
   ]
  },
  {
   "cell_type": "code",
   "execution_count": 128,
   "metadata": {},
   "outputs": [],
   "source": [
    "df1.set_index('Date',inplace=True)"
   ]
  },
  {
   "cell_type": "code",
   "execution_count": 127,
   "metadata": {},
   "outputs": [],
   "source": [
    "df1 = df1.iloc[:,:2]"
   ]
  },
  {
   "cell_type": "markdown",
   "metadata": {},
   "source": [
    "#### change exact index and column names"
   ]
  },
  {
   "cell_type": "code",
   "execution_count": 179,
   "metadata": {},
   "outputs": [
    {
     "data": {
      "text/html": [
       "<div>\n",
       "<style scoped>\n",
       "    .dataframe tbody tr th:only-of-type {\n",
       "        vertical-align: middle;\n",
       "    }\n",
       "\n",
       "    .dataframe tbody tr th {\n",
       "        vertical-align: top;\n",
       "    }\n",
       "\n",
       "    .dataframe thead th {\n",
       "        text-align: right;\n",
       "    }\n",
       "</style>\n",
       "<table border=\"1\" class=\"dataframe\">\n",
       "  <thead>\n",
       "    <tr style=\"text-align: right;\">\n",
       "      <th></th>\n",
       "      <th>dat1e</th>\n",
       "      <th>dat2e</th>\n",
       "      <th>da3te</th>\n",
       "      <th>da4te</th>\n",
       "      <th>dat5e</th>\n",
       "      <th>dat6e</th>\n",
       "      <th>d9ate</th>\n",
       "      <th>da0te</th>\n",
       "    </tr>\n",
       "    <tr>\n",
       "      <th>Date</th>\n",
       "      <th></th>\n",
       "      <th></th>\n",
       "      <th></th>\n",
       "      <th></th>\n",
       "      <th></th>\n",
       "      <th></th>\n",
       "      <th></th>\n",
       "      <th></th>\n",
       "    </tr>\n",
       "  </thead>\n",
       "  <tbody>\n",
       "    <tr>\n",
       "      <th>1</th>\n",
       "      <td>0.00483</td>\n",
       "      <td>0.01161</td>\n",
       "      <td>0.00041</td>\n",
       "      <td>0.00083</td>\n",
       "      <td>-0.01698</td>\n",
       "      <td>1014000000</td>\n",
       "      <td>-0.005710</td>\n",
       "      <td>DOWN</td>\n",
       "    </tr>\n",
       "    <tr>\n",
       "      <th>1/12/2000</th>\n",
       "      <td>-0.00571</td>\n",
       "      <td>0.00483</td>\n",
       "      <td>0.01161</td>\n",
       "      <td>0.00041</td>\n",
       "      <td>0.00083</td>\n",
       "      <td>974600000</td>\n",
       "      <td>-0.001909</td>\n",
       "      <td>DOWN</td>\n",
       "    </tr>\n",
       "    <tr>\n",
       "      <th>1/13/2000</th>\n",
       "      <td>-0.00191</td>\n",
       "      <td>-0.00571</td>\n",
       "      <td>0.00483</td>\n",
       "      <td>0.01161</td>\n",
       "      <td>0.00041</td>\n",
       "      <td>1030400000</td>\n",
       "      <td>0.005253</td>\n",
       "      <td>UP</td>\n",
       "    </tr>\n",
       "    <tr>\n",
       "      <th>1/14/2000</th>\n",
       "      <td>0.00525</td>\n",
       "      <td>-0.00191</td>\n",
       "      <td>-0.00571</td>\n",
       "      <td>0.00483</td>\n",
       "      <td>0.01161</td>\n",
       "      <td>1085900000</td>\n",
       "      <td>0.004610</td>\n",
       "      <td>UP</td>\n",
       "    </tr>\n",
       "    <tr>\n",
       "      <th>1/18/2000</th>\n",
       "      <td>0.00461</td>\n",
       "      <td>0.00525</td>\n",
       "      <td>-0.00191</td>\n",
       "      <td>-0.00571</td>\n",
       "      <td>0.00483</td>\n",
       "      <td>1056700000</td>\n",
       "      <td>-0.002977</td>\n",
       "      <td>DOWN</td>\n",
       "    </tr>\n",
       "  </tbody>\n",
       "</table>\n",
       "</div>"
      ],
      "text/plain": [
       "             dat1e    dat2e    da3te    da4te    dat5e       dat6e     d9ate  \\\n",
       "Date                                                                           \n",
       "1          0.00483  0.01161  0.00041  0.00083 -0.01698  1014000000 -0.005710   \n",
       "1/12/2000 -0.00571  0.00483  0.01161  0.00041  0.00083   974600000 -0.001909   \n",
       "1/13/2000 -0.00191 -0.00571  0.00483  0.01161  0.00041  1030400000  0.005253   \n",
       "1/14/2000  0.00525 -0.00191 -0.00571  0.00483  0.01161  1085900000  0.004610   \n",
       "1/18/2000  0.00461  0.00525 -0.00191 -0.00571  0.00483  1056700000 -0.002977   \n",
       "\n",
       "          da0te  \n",
       "Date             \n",
       "1          DOWN  \n",
       "1/12/2000  DOWN  \n",
       "1/13/2000    UP  \n",
       "1/14/2000    UP  \n",
       "1/18/2000  DOWN  "
      ]
     },
     "execution_count": 179,
     "metadata": {},
     "output_type": "execute_result"
    }
   ],
   "source": [
    "df1 = df1.rename(str.lower,axis=1)\n",
    "df1 = df1.rename({'1/11/2000':1}, axis=0)\n",
    "df1.head()"
   ]
  },
  {
   "cell_type": "code",
   "execution_count": null,
   "metadata": {},
   "outputs": [],
   "source": [
    "df1 = df1.reindex_axis"
   ]
  },
  {
   "cell_type": "markdown",
   "metadata": {},
   "source": [
    "## several major ways to combine data\n",
    "### append and concat add rows in dataframe if they have same columns name \n",
    "### series- whenever we say something like df['column'], the return is a series."
   ]
  },
  {
   "cell_type": "code",
   "execution_count": 24,
   "metadata": {},
   "outputs": [],
   "source": [
    "df1 = pd.DataFrame({'HPI':[80,85,88,85],\n",
    "                    'Int_rat':[2, 3, 2, 2],\n",
    "                    'US_GDP_Thousands':[50, 55, 65, 55]},\n",
    "                   index = [2001, 2002, 2003, 2004])\n",
    "\n",
    "df2 = pd.DataFrame({'HPI':[80,85,88,85],\n",
    "                    'Int_rat':[2, 4, 2, 2],\n",
    "                    'US_GDP_Thousands':[50, 55, 65, 55]},\n",
    "                   index = [2005, 2006, 2007, 2008])\n",
    "\n",
    "df3 = pd.DataFrame({'HPI':[80,85,88,85],\n",
    "                    'Int_rate':[2, 3, 2, 2],\n",
    "                    'Low_tier_HPI':[50, 52, 50, 53]},\n",
    "                   index = [2001, 2002, 2003, 2004])"
   ]
  },
  {
   "cell_type": "markdown",
   "metadata": {},
   "source": [
    "## concat is similar with append"
   ]
  },
  {
   "cell_type": "code",
   "execution_count": 28,
   "metadata": {},
   "outputs": [
    {
     "data": {
      "text/html": [
       "<div>\n",
       "<style scoped>\n",
       "    .dataframe tbody tr th:only-of-type {\n",
       "        vertical-align: middle;\n",
       "    }\n",
       "\n",
       "    .dataframe tbody tr th {\n",
       "        vertical-align: top;\n",
       "    }\n",
       "\n",
       "    .dataframe thead th {\n",
       "        text-align: right;\n",
       "    }\n",
       "</style>\n",
       "<table border=\"1\" class=\"dataframe\">\n",
       "  <thead>\n",
       "    <tr style=\"text-align: right;\">\n",
       "      <th></th>\n",
       "      <th>HPI</th>\n",
       "      <th>Int_rat</th>\n",
       "      <th>US_GDP_Thousands</th>\n",
       "    </tr>\n",
       "  </thead>\n",
       "  <tbody>\n",
       "    <tr>\n",
       "      <th>2001</th>\n",
       "      <td>80</td>\n",
       "      <td>2</td>\n",
       "      <td>50</td>\n",
       "    </tr>\n",
       "    <tr>\n",
       "      <th>2002</th>\n",
       "      <td>85</td>\n",
       "      <td>3</td>\n",
       "      <td>55</td>\n",
       "    </tr>\n",
       "    <tr>\n",
       "      <th>2003</th>\n",
       "      <td>88</td>\n",
       "      <td>2</td>\n",
       "      <td>65</td>\n",
       "    </tr>\n",
       "    <tr>\n",
       "      <th>2004</th>\n",
       "      <td>85</td>\n",
       "      <td>2</td>\n",
       "      <td>55</td>\n",
       "    </tr>\n",
       "    <tr>\n",
       "      <th>2005</th>\n",
       "      <td>80</td>\n",
       "      <td>2</td>\n",
       "      <td>50</td>\n",
       "    </tr>\n",
       "    <tr>\n",
       "      <th>2006</th>\n",
       "      <td>85</td>\n",
       "      <td>4</td>\n",
       "      <td>55</td>\n",
       "    </tr>\n",
       "    <tr>\n",
       "      <th>2007</th>\n",
       "      <td>88</td>\n",
       "      <td>2</td>\n",
       "      <td>65</td>\n",
       "    </tr>\n",
       "    <tr>\n",
       "      <th>2008</th>\n",
       "      <td>85</td>\n",
       "      <td>2</td>\n",
       "      <td>55</td>\n",
       "    </tr>\n",
       "  </tbody>\n",
       "</table>\n",
       "</div>"
      ],
      "text/plain": [
       "      HPI  Int_rat  US_GDP_Thousands\n",
       "2001   80        2                50\n",
       "2002   85        3                55\n",
       "2003   88        2                65\n",
       "2004   85        2                55\n",
       "2005   80        2                50\n",
       "2006   85        4                55\n",
       "2007   88        2                65\n",
       "2008   85        2                55"
      ]
     },
     "execution_count": 28,
     "metadata": {},
     "output_type": "execute_result"
    }
   ],
   "source": [
    "concat = pd.concat([df1,df2],sort = False)\n",
    "concat"
   ]
  },
  {
   "cell_type": "code",
   "execution_count": 195,
   "metadata": {},
   "outputs": [
    {
     "data": {
      "text/html": [
       "<div>\n",
       "<style scoped>\n",
       "    .dataframe tbody tr th:only-of-type {\n",
       "        vertical-align: middle;\n",
       "    }\n",
       "\n",
       "    .dataframe tbody tr th {\n",
       "        vertical-align: top;\n",
       "    }\n",
       "\n",
       "    .dataframe thead th {\n",
       "        text-align: right;\n",
       "    }\n",
       "</style>\n",
       "<table border=\"1\" class=\"dataframe\">\n",
       "  <thead>\n",
       "    <tr style=\"text-align: right;\">\n",
       "      <th></th>\n",
       "      <th>HPI</th>\n",
       "      <th>Int_rat</th>\n",
       "      <th>US_GDP_Thousands</th>\n",
       "      <th>Int_rate</th>\n",
       "    </tr>\n",
       "  </thead>\n",
       "  <tbody>\n",
       "  </tbody>\n",
       "</table>\n",
       "</div>"
      ],
      "text/plain": [
       "Empty DataFrame\n",
       "Columns: [HPI, Int_rat, US_GDP_Thousands, Int_rate]\n",
       "Index: []"
      ]
     },
     "execution_count": 195,
     "metadata": {},
     "output_type": "execute_result"
    }
   ],
   "source": [
    "concat.dropna()"
   ]
  },
  {
   "cell_type": "code",
   "execution_count": 200,
   "metadata": {},
   "outputs": [
    {
     "data": {
      "text/html": [
       "<div>\n",
       "<style scoped>\n",
       "    .dataframe tbody tr th:only-of-type {\n",
       "        vertical-align: middle;\n",
       "    }\n",
       "\n",
       "    .dataframe tbody tr th {\n",
       "        vertical-align: top;\n",
       "    }\n",
       "\n",
       "    .dataframe thead th {\n",
       "        text-align: right;\n",
       "    }\n",
       "</style>\n",
       "<table border=\"1\" class=\"dataframe\">\n",
       "  <thead>\n",
       "    <tr style=\"text-align: right;\">\n",
       "      <th></th>\n",
       "      <th>HPI</th>\n",
       "      <th>Int_rat</th>\n",
       "      <th>US_GDP_Thousands</th>\n",
       "    </tr>\n",
       "  </thead>\n",
       "  <tbody>\n",
       "    <tr>\n",
       "      <th>2001</th>\n",
       "      <td>80</td>\n",
       "      <td>2</td>\n",
       "      <td>50</td>\n",
       "    </tr>\n",
       "    <tr>\n",
       "      <th>2002</th>\n",
       "      <td>85</td>\n",
       "      <td>3</td>\n",
       "      <td>55</td>\n",
       "    </tr>\n",
       "    <tr>\n",
       "      <th>2003</th>\n",
       "      <td>88</td>\n",
       "      <td>2</td>\n",
       "      <td>65</td>\n",
       "    </tr>\n",
       "    <tr>\n",
       "      <th>2004</th>\n",
       "      <td>85</td>\n",
       "      <td>2</td>\n",
       "      <td>55</td>\n",
       "    </tr>\n",
       "    <tr>\n",
       "      <th>2005</th>\n",
       "      <td>80</td>\n",
       "      <td>2</td>\n",
       "      <td>50</td>\n",
       "    </tr>\n",
       "    <tr>\n",
       "      <th>2006</th>\n",
       "      <td>85</td>\n",
       "      <td>4</td>\n",
       "      <td>55</td>\n",
       "    </tr>\n",
       "    <tr>\n",
       "      <th>2007</th>\n",
       "      <td>88</td>\n",
       "      <td>2</td>\n",
       "      <td>65</td>\n",
       "    </tr>\n",
       "    <tr>\n",
       "      <th>2008</th>\n",
       "      <td>85</td>\n",
       "      <td>2</td>\n",
       "      <td>55</td>\n",
       "    </tr>\n",
       "  </tbody>\n",
       "</table>\n",
       "</div>"
      ],
      "text/plain": [
       "      HPI  Int_rat  US_GDP_Thousands\n",
       "2001   80        2                50\n",
       "2002   85        3                55\n",
       "2003   88        2                65\n",
       "2004   85        2                55\n",
       "2005   80        2                50\n",
       "2006   85        4                55\n",
       "2007   88        2                65\n",
       "2008   85        2                55"
      ]
     },
     "execution_count": 200,
     "metadata": {},
     "output_type": "execute_result"
    }
   ],
   "source": [
    "df1.append(df2)"
   ]
  },
  {
   "cell_type": "markdown",
   "metadata": {},
   "source": [
    "## joining and merging dataframes "
   ]
  },
  {
   "cell_type": "code",
   "execution_count": 88,
   "metadata": {},
   "outputs": [],
   "source": [
    "df1 = pd.DataFrame({'HPI':[80,85,88,85],\n",
    "                    'Int_rate':[2, 3, 2, 2],\n",
    "                    'US_GDP_Thousands':[50, 55, 65, 55]},\n",
    "                   index = [2001, 2002, 2003, 2004])\n",
    "\n",
    "df2 = pd.DataFrame({'HPI':[80,85,88,85],\n",
    "                    'Int_rate':[2, 4, 2, 2],\n",
    "                    'US_GDP_Thousands':[50, 55, 65, 5]},\n",
    "                   index = [2005, 2006, 2007, 2008])\n",
    "\n",
    "df3 = pd.DataFrame({'HPI':[80,85,88,85],\n",
    "                    'Unemployment':[7, 8, 9, 6],\n",
    "                    'Low_tier_HPI':[50, 52, 50, 53]},\n",
    "                   index = [2001, 2002, 2003, 2004])"
   ]
  },
  {
   "cell_type": "code",
   "execution_count": 41,
   "metadata": {},
   "outputs": [
    {
     "name": "stdout",
     "output_type": "stream",
     "text": [
      "   HPI  Int_rate  US_GDP_Thousands  Int_ate  US_DP_Thousands\n",
      "0   80         2                50        2               50\n",
      "1   85         3                55        4               55\n",
      "2   85         2                55        4               55\n",
      "3   85         3                55        2                5\n",
      "4   85         2                55        2                5\n",
      "5   88         2                65        2               65\n"
     ]
    }
   ],
   "source": [
    "print(pd.merge(df1,df2, on='HPI',how = 'right'))"
   ]
  },
  {
   "cell_type": "code",
   "execution_count": 39,
   "metadata": {},
   "outputs": [],
   "source": [
    "pd.merge?"
   ]
  },
  {
   "cell_type": "code",
   "execution_count": 38,
   "metadata": {},
   "outputs": [
    {
     "name": "stdout",
     "output_type": "stream",
     "text": [
      "   HPI  Int_rate  US_GDP_Thousands  Int_ate  US_DP_Thousands\n",
      "0   80         2                50        2               50\n",
      "1   85         3                55        4               55\n",
      "2   85         3                55        2                5\n",
      "3   85         2                55        4               55\n",
      "4   85         2                55        2                5\n",
      "5   88         2                65        2               65\n"
     ]
    }
   ],
   "source": [
    "print(pd.merge(df1,df2, on = ['HPI'],how = 'outer'))\n",
    "# outer inner left right"
   ]
  },
  {
   "cell_type": "markdown",
   "metadata": {},
   "source": [
    "##  Now, what if HPI was already the index? Or, in our case, We'll probably be joining on the dates, but the dates might be the index. In this case, we'd probably use join."
   ]
  },
  {
   "cell_type": "code",
   "execution_count": 89,
   "metadata": {},
   "outputs": [],
   "source": [
    "df1.set_index('HPI', inplace=True)\n",
    "df2.set_index('HPI', inplace=True)\n",
    "df3.set_index('HPI', inplace=True)"
   ]
  },
  {
   "cell_type": "markdown",
   "metadata": {},
   "source": [
    "##  some difference bewteen join and mergy, if there is replicated columns in join, it needed to explicitly lsuffix='_left', rsuffix='_right'"
   ]
  },
  {
   "cell_type": "code",
   "execution_count": 90,
   "metadata": {},
   "outputs": [
    {
     "data": {
      "text/html": [
       "<div>\n",
       "<style scoped>\n",
       "    .dataframe tbody tr th:only-of-type {\n",
       "        vertical-align: middle;\n",
       "    }\n",
       "\n",
       "    .dataframe tbody tr th {\n",
       "        vertical-align: top;\n",
       "    }\n",
       "\n",
       "    .dataframe thead th {\n",
       "        text-align: right;\n",
       "    }\n",
       "</style>\n",
       "<table border=\"1\" class=\"dataframe\">\n",
       "  <thead>\n",
       "    <tr style=\"text-align: right;\">\n",
       "      <th></th>\n",
       "      <th>Int_rate_left</th>\n",
       "      <th>US_GDP_Thousands_left</th>\n",
       "      <th>Int_rate_right</th>\n",
       "      <th>US_GDP_Thousands_right</th>\n",
       "    </tr>\n",
       "    <tr>\n",
       "      <th>HPI</th>\n",
       "      <th></th>\n",
       "      <th></th>\n",
       "      <th></th>\n",
       "      <th></th>\n",
       "    </tr>\n",
       "  </thead>\n",
       "  <tbody>\n",
       "    <tr>\n",
       "      <th>80</th>\n",
       "      <td>2</td>\n",
       "      <td>50</td>\n",
       "      <td>2</td>\n",
       "      <td>50</td>\n",
       "    </tr>\n",
       "    <tr>\n",
       "      <th>85</th>\n",
       "      <td>3</td>\n",
       "      <td>55</td>\n",
       "      <td>4</td>\n",
       "      <td>55</td>\n",
       "    </tr>\n",
       "    <tr>\n",
       "      <th>85</th>\n",
       "      <td>3</td>\n",
       "      <td>55</td>\n",
       "      <td>2</td>\n",
       "      <td>5</td>\n",
       "    </tr>\n",
       "    <tr>\n",
       "      <th>85</th>\n",
       "      <td>2</td>\n",
       "      <td>55</td>\n",
       "      <td>4</td>\n",
       "      <td>55</td>\n",
       "    </tr>\n",
       "    <tr>\n",
       "      <th>85</th>\n",
       "      <td>2</td>\n",
       "      <td>55</td>\n",
       "      <td>2</td>\n",
       "      <td>5</td>\n",
       "    </tr>\n",
       "    <tr>\n",
       "      <th>88</th>\n",
       "      <td>2</td>\n",
       "      <td>65</td>\n",
       "      <td>2</td>\n",
       "      <td>65</td>\n",
       "    </tr>\n",
       "  </tbody>\n",
       "</table>\n",
       "</div>"
      ],
      "text/plain": [
       "     Int_rate_left  US_GDP_Thousands_left  Int_rate_right  \\\n",
       "HPI                                                         \n",
       "80               2                     50               2   \n",
       "85               3                     55               4   \n",
       "85               3                     55               2   \n",
       "85               2                     55               4   \n",
       "85               2                     55               2   \n",
       "88               2                     65               2   \n",
       "\n",
       "     US_GDP_Thousands_right  \n",
       "HPI                          \n",
       "80                       50  \n",
       "85                       55  \n",
       "85                        5  \n",
       "85                       55  \n",
       "85                        5  \n",
       "88                       65  "
      ]
     },
     "execution_count": 90,
     "metadata": {},
     "output_type": "execute_result"
    }
   ],
   "source": [
    "df1.join(df2,how = 'left',lsuffix='_left', rsuffix='_right')"
   ]
  },
  {
   "cell_type": "code",
   "execution_count": 91,
   "metadata": {},
   "outputs": [
    {
     "data": {
      "text/html": [
       "<div>\n",
       "<style scoped>\n",
       "    .dataframe tbody tr th:only-of-type {\n",
       "        vertical-align: middle;\n",
       "    }\n",
       "\n",
       "    .dataframe tbody tr th {\n",
       "        vertical-align: top;\n",
       "    }\n",
       "\n",
       "    .dataframe thead th {\n",
       "        text-align: right;\n",
       "    }\n",
       "</style>\n",
       "<table border=\"1\" class=\"dataframe\">\n",
       "  <thead>\n",
       "    <tr style=\"text-align: right;\">\n",
       "      <th></th>\n",
       "      <th>Int_rate</th>\n",
       "      <th>US_GDP_Thousands</th>\n",
       "      <th>Low_tier_HPI</th>\n",
       "      <th>Unemployment</th>\n",
       "    </tr>\n",
       "    <tr>\n",
       "      <th>HPI</th>\n",
       "      <th></th>\n",
       "      <th></th>\n",
       "      <th></th>\n",
       "      <th></th>\n",
       "    </tr>\n",
       "  </thead>\n",
       "  <tbody>\n",
       "    <tr>\n",
       "      <th>80</th>\n",
       "      <td>2</td>\n",
       "      <td>50</td>\n",
       "      <td>50</td>\n",
       "      <td>7</td>\n",
       "    </tr>\n",
       "    <tr>\n",
       "      <th>85</th>\n",
       "      <td>3</td>\n",
       "      <td>55</td>\n",
       "      <td>52</td>\n",
       "      <td>8</td>\n",
       "    </tr>\n",
       "    <tr>\n",
       "      <th>85</th>\n",
       "      <td>3</td>\n",
       "      <td>55</td>\n",
       "      <td>53</td>\n",
       "      <td>6</td>\n",
       "    </tr>\n",
       "    <tr>\n",
       "      <th>85</th>\n",
       "      <td>2</td>\n",
       "      <td>55</td>\n",
       "      <td>52</td>\n",
       "      <td>8</td>\n",
       "    </tr>\n",
       "    <tr>\n",
       "      <th>85</th>\n",
       "      <td>2</td>\n",
       "      <td>55</td>\n",
       "      <td>53</td>\n",
       "      <td>6</td>\n",
       "    </tr>\n",
       "    <tr>\n",
       "      <th>88</th>\n",
       "      <td>2</td>\n",
       "      <td>65</td>\n",
       "      <td>50</td>\n",
       "      <td>9</td>\n",
       "    </tr>\n",
       "  </tbody>\n",
       "</table>\n",
       "</div>"
      ],
      "text/plain": [
       "     Int_rate  US_GDP_Thousands  Low_tier_HPI  Unemployment\n",
       "HPI                                                        \n",
       "80          2                50            50             7\n",
       "85          3                55            52             8\n",
       "85          3                55            53             6\n",
       "85          2                55            52             8\n",
       "85          2                55            53             6\n",
       "88          2                65            50             9"
      ]
     },
     "execution_count": 91,
     "metadata": {},
     "output_type": "execute_result"
    }
   ],
   "source": [
    "df1.join(df3)"
   ]
  },
  {
   "cell_type": "markdown",
   "metadata": {},
   "source": [
    "## Building dataset"
   ]
  },
  {
   "cell_type": "code",
   "execution_count": 92,
   "metadata": {},
   "outputs": [],
   "source": [
    "import quandl"
   ]
  },
  {
   "cell_type": "code",
   "execution_count": 93,
   "metadata": {},
   "outputs": [],
   "source": [
    "df = quandl.get([\"FMAC/HPI_TX\",\"FMAC/HPI_IL\"])"
   ]
  },
  {
   "cell_type": "code",
   "execution_count": 95,
   "metadata": {},
   "outputs": [],
   "source": [
    "df.columns = ['TX','IL']"
   ]
  },
  {
   "cell_type": "code",
   "execution_count": 96,
   "metadata": {},
   "outputs": [
    {
     "data": {
      "text/html": [
       "<div>\n",
       "<style scoped>\n",
       "    .dataframe tbody tr th:only-of-type {\n",
       "        vertical-align: middle;\n",
       "    }\n",
       "\n",
       "    .dataframe tbody tr th {\n",
       "        vertical-align: top;\n",
       "    }\n",
       "\n",
       "    .dataframe thead th {\n",
       "        text-align: right;\n",
       "    }\n",
       "</style>\n",
       "<table border=\"1\" class=\"dataframe\">\n",
       "  <thead>\n",
       "    <tr style=\"text-align: right;\">\n",
       "      <th></th>\n",
       "      <th>TX</th>\n",
       "      <th>IL</th>\n",
       "    </tr>\n",
       "    <tr>\n",
       "      <th>Date</th>\n",
       "      <th></th>\n",
       "      <th></th>\n",
       "    </tr>\n",
       "  </thead>\n",
       "  <tbody>\n",
       "    <tr>\n",
       "      <th>1975-01-31</th>\n",
       "      <td>32.602350</td>\n",
       "      <td>25.670410</td>\n",
       "    </tr>\n",
       "    <tr>\n",
       "      <th>1975-02-28</th>\n",
       "      <td>32.944116</td>\n",
       "      <td>25.766823</td>\n",
       "    </tr>\n",
       "    <tr>\n",
       "      <th>1975-03-31</th>\n",
       "      <td>33.542975</td>\n",
       "      <td>25.969181</td>\n",
       "    </tr>\n",
       "    <tr>\n",
       "      <th>1975-04-30</th>\n",
       "      <td>34.402826</td>\n",
       "      <td>26.232112</td>\n",
       "    </tr>\n",
       "    <tr>\n",
       "      <th>1975-05-31</th>\n",
       "      <td>34.649755</td>\n",
       "      <td>26.396115</td>\n",
       "    </tr>\n",
       "  </tbody>\n",
       "</table>\n",
       "</div>"
      ],
      "text/plain": [
       "                   TX         IL\n",
       "Date                            \n",
       "1975-01-31  32.602350  25.670410\n",
       "1975-02-28  32.944116  25.766823\n",
       "1975-03-31  33.542975  25.969181\n",
       "1975-04-30  34.402826  26.232112\n",
       "1975-05-31  34.649755  26.396115"
      ]
     },
     "execution_count": 96,
     "metadata": {},
     "output_type": "execute_result"
    }
   ],
   "source": [
    "df.head()"
   ]
  },
  {
   "cell_type": "markdown",
   "metadata": {},
   "source": [
    "### pd.read_html you will get a list of dataframe"
   ]
  },
  {
   "cell_type": "code",
   "execution_count": 97,
   "metadata": {},
   "outputs": [],
   "source": [
    "fiddy_states = pd.read_html('https://simple.wikipedia.org/wiki/List_of_U.S._states')\n",
    "wiki = pd.read_html('https://en.wikipedia.org/wiki/Uniform_distribution_(continuous)')"
   ]
  },
  {
   "cell_type": "code",
   "execution_count": 98,
   "metadata": {},
   "outputs": [],
   "source": [
    "main_df = pd.DataFrame()\n",
    "for abbv in fiddy_states[0][1][1:]:\n",
    "    query = \"FMAC/HPI_\" + str(abbv)\n",
    "    df = quandl.get(query,api_key='VU2KfDTTpaSJXc8e84iv')\n",
    "    df.columns = [str(abbv)]\n",
    "    if main_df.empty:\n",
    "        main_df = df\n",
    "    else:\n",
    "        main_df = main_df.join(df)\n"
   ]
  },
  {
   "cell_type": "code",
   "execution_count": 99,
   "metadata": {},
   "outputs": [
    {
     "data": {
      "text/html": [
       "<div>\n",
       "<style scoped>\n",
       "    .dataframe tbody tr th:only-of-type {\n",
       "        vertical-align: middle;\n",
       "    }\n",
       "\n",
       "    .dataframe tbody tr th {\n",
       "        vertical-align: top;\n",
       "    }\n",
       "\n",
       "    .dataframe thead th {\n",
       "        text-align: right;\n",
       "    }\n",
       "</style>\n",
       "<table border=\"1\" class=\"dataframe\">\n",
       "  <thead>\n",
       "    <tr style=\"text-align: right;\">\n",
       "      <th></th>\n",
       "      <th>AL</th>\n",
       "      <th>AK</th>\n",
       "      <th>AZ</th>\n",
       "      <th>AR</th>\n",
       "      <th>CA</th>\n",
       "      <th>CO</th>\n",
       "      <th>CT</th>\n",
       "      <th>DE</th>\n",
       "      <th>FL</th>\n",
       "      <th>GA</th>\n",
       "      <th>...</th>\n",
       "      <th>SD</th>\n",
       "      <th>TN</th>\n",
       "      <th>TX</th>\n",
       "      <th>UT</th>\n",
       "      <th>VT</th>\n",
       "      <th>VA</th>\n",
       "      <th>WA</th>\n",
       "      <th>WV</th>\n",
       "      <th>WI</th>\n",
       "      <th>WY</th>\n",
       "    </tr>\n",
       "    <tr>\n",
       "      <th>Date</th>\n",
       "      <th></th>\n",
       "      <th></th>\n",
       "      <th></th>\n",
       "      <th></th>\n",
       "      <th></th>\n",
       "      <th></th>\n",
       "      <th></th>\n",
       "      <th></th>\n",
       "      <th></th>\n",
       "      <th></th>\n",
       "      <th></th>\n",
       "      <th></th>\n",
       "      <th></th>\n",
       "      <th></th>\n",
       "      <th></th>\n",
       "      <th></th>\n",
       "      <th></th>\n",
       "      <th></th>\n",
       "      <th></th>\n",
       "      <th></th>\n",
       "      <th></th>\n",
       "    </tr>\n",
       "  </thead>\n",
       "  <tbody>\n",
       "    <tr>\n",
       "      <th>1975-01-31</th>\n",
       "      <td>35.695975</td>\n",
       "      <td>34.371830</td>\n",
       "      <td>28.937735</td>\n",
       "      <td>36.738861</td>\n",
       "      <td>15.722312</td>\n",
       "      <td>19.603977</td>\n",
       "      <td>24.369431</td>\n",
       "      <td>27.264842</td>\n",
       "      <td>30.997043</td>\n",
       "      <td>30.720917</td>\n",
       "      <td>...</td>\n",
       "      <td>37.722210</td>\n",
       "      <td>32.179633</td>\n",
       "      <td>32.602350</td>\n",
       "      <td>24.698474</td>\n",
       "      <td>26.637620</td>\n",
       "      <td>27.912640</td>\n",
       "      <td>17.484315</td>\n",
       "      <td>41.002072</td>\n",
       "      <td>28.096764</td>\n",
       "      <td>31.668794</td>\n",
       "    </tr>\n",
       "    <tr>\n",
       "      <th>1975-02-28</th>\n",
       "      <td>35.896770</td>\n",
       "      <td>34.880945</td>\n",
       "      <td>29.463708</td>\n",
       "      <td>37.098962</td>\n",
       "      <td>15.775202</td>\n",
       "      <td>19.837138</td>\n",
       "      <td>24.908036</td>\n",
       "      <td>27.250734</td>\n",
       "      <td>32.229049</td>\n",
       "      <td>30.450593</td>\n",
       "      <td>...</td>\n",
       "      <td>37.319634</td>\n",
       "      <td>32.218599</td>\n",
       "      <td>32.944116</td>\n",
       "      <td>25.060977</td>\n",
       "      <td>26.956271</td>\n",
       "      <td>28.205810</td>\n",
       "      <td>17.571053</td>\n",
       "      <td>42.040473</td>\n",
       "      <td>28.486170</td>\n",
       "      <td>32.161920</td>\n",
       "    </tr>\n",
       "    <tr>\n",
       "      <th>1975-03-31</th>\n",
       "      <td>36.133518</td>\n",
       "      <td>35.402217</td>\n",
       "      <td>29.959514</td>\n",
       "      <td>37.416398</td>\n",
       "      <td>15.964942</td>\n",
       "      <td>20.073483</td>\n",
       "      <td>25.313556</td>\n",
       "      <td>27.268478</td>\n",
       "      <td>34.027506</td>\n",
       "      <td>30.338265</td>\n",
       "      <td>...</td>\n",
       "      <td>36.908861</td>\n",
       "      <td>32.296539</td>\n",
       "      <td>33.542975</td>\n",
       "      <td>25.381341</td>\n",
       "      <td>27.264731</td>\n",
       "      <td>28.420407</td>\n",
       "      <td>17.689717</td>\n",
       "      <td>43.122486</td>\n",
       "      <td>28.860737</td>\n",
       "      <td>32.680525</td>\n",
       "    </tr>\n",
       "    <tr>\n",
       "      <th>1975-04-30</th>\n",
       "      <td>36.425723</td>\n",
       "      <td>35.944703</td>\n",
       "      <td>30.345148</td>\n",
       "      <td>37.677813</td>\n",
       "      <td>16.275547</td>\n",
       "      <td>20.301864</td>\n",
       "      <td>25.541141</td>\n",
       "      <td>27.362673</td>\n",
       "      <td>36.218077</td>\n",
       "      <td>30.401314</td>\n",
       "      <td>...</td>\n",
       "      <td>36.498238</td>\n",
       "      <td>32.416385</td>\n",
       "      <td>34.402826</td>\n",
       "      <td>25.627200</td>\n",
       "      <td>27.546568</td>\n",
       "      <td>28.578762</td>\n",
       "      <td>17.818792</td>\n",
       "      <td>44.239196</td>\n",
       "      <td>29.185048</td>\n",
       "      <td>33.210124</td>\n",
       "    </tr>\n",
       "    <tr>\n",
       "      <th>1975-05-31</th>\n",
       "      <td>36.695708</td>\n",
       "      <td>36.535272</td>\n",
       "      <td>30.546449</td>\n",
       "      <td>37.921099</td>\n",
       "      <td>16.533017</td>\n",
       "      <td>20.495075</td>\n",
       "      <td>25.614056</td>\n",
       "      <td>27.561893</td>\n",
       "      <td>36.437855</td>\n",
       "      <td>30.511355</td>\n",
       "      <td>...</td>\n",
       "      <td>36.121328</td>\n",
       "      <td>32.563209</td>\n",
       "      <td>34.649755</td>\n",
       "      <td>25.782334</td>\n",
       "      <td>27.794738</td>\n",
       "      <td>28.717611</td>\n",
       "      <td>17.933277</td>\n",
       "      <td>45.363222</td>\n",
       "      <td>29.443523</td>\n",
       "      <td>33.714128</td>\n",
       "    </tr>\n",
       "  </tbody>\n",
       "</table>\n",
       "<p>5 rows × 50 columns</p>\n",
       "</div>"
      ],
      "text/plain": [
       "                   AL         AK         AZ         AR         CA         CO  \\\n",
       "Date                                                                           \n",
       "1975-01-31  35.695975  34.371830  28.937735  36.738861  15.722312  19.603977   \n",
       "1975-02-28  35.896770  34.880945  29.463708  37.098962  15.775202  19.837138   \n",
       "1975-03-31  36.133518  35.402217  29.959514  37.416398  15.964942  20.073483   \n",
       "1975-04-30  36.425723  35.944703  30.345148  37.677813  16.275547  20.301864   \n",
       "1975-05-31  36.695708  36.535272  30.546449  37.921099  16.533017  20.495075   \n",
       "\n",
       "                   CT         DE         FL         GA    ...             SD  \\\n",
       "Date                                                      ...                  \n",
       "1975-01-31  24.369431  27.264842  30.997043  30.720917    ...      37.722210   \n",
       "1975-02-28  24.908036  27.250734  32.229049  30.450593    ...      37.319634   \n",
       "1975-03-31  25.313556  27.268478  34.027506  30.338265    ...      36.908861   \n",
       "1975-04-30  25.541141  27.362673  36.218077  30.401314    ...      36.498238   \n",
       "1975-05-31  25.614056  27.561893  36.437855  30.511355    ...      36.121328   \n",
       "\n",
       "                   TN         TX         UT         VT         VA         WA  \\\n",
       "Date                                                                           \n",
       "1975-01-31  32.179633  32.602350  24.698474  26.637620  27.912640  17.484315   \n",
       "1975-02-28  32.218599  32.944116  25.060977  26.956271  28.205810  17.571053   \n",
       "1975-03-31  32.296539  33.542975  25.381341  27.264731  28.420407  17.689717   \n",
       "1975-04-30  32.416385  34.402826  25.627200  27.546568  28.578762  17.818792   \n",
       "1975-05-31  32.563209  34.649755  25.782334  27.794738  28.717611  17.933277   \n",
       "\n",
       "                   WV         WI         WY  \n",
       "Date                                         \n",
       "1975-01-31  41.002072  28.096764  31.668794  \n",
       "1975-02-28  42.040473  28.486170  32.161920  \n",
       "1975-03-31  43.122486  28.860737  32.680525  \n",
       "1975-04-30  44.239196  29.185048  33.210124  \n",
       "1975-05-31  45.363222  29.443523  33.714128  \n",
       "\n",
       "[5 rows x 50 columns]"
      ]
     },
     "execution_count": 99,
     "metadata": {},
     "output_type": "execute_result"
    }
   ],
   "source": [
    "main_df.head()"
   ]
  },
  {
   "cell_type": "markdown",
   "metadata": {},
   "source": [
    "###  Pickle to store not dataframe data"
   ]
  },
  {
   "cell_type": "code",
   "execution_count": 100,
   "metadata": {},
   "outputs": [],
   "source": [
    "pickle_out = open('fiddy_states.pickle','wb')\n",
    "pickle.dump(main_df, pickle_out)\n",
    "pickle_out.close()   \n"
   ]
  },
  {
   "cell_type": "code",
   "execution_count": 101,
   "metadata": {},
   "outputs": [],
   "source": [
    "HPI_data = pd.read_pickle('fiddy_states.pickle')"
   ]
  },
  {
   "cell_type": "code",
   "execution_count": 27,
   "metadata": {},
   "outputs": [
    {
     "name": "stdout",
     "output_type": "stream",
     "text": [
      "            Value_left  Value_right  Value_left  Value_right  Value_left  \\\n",
      "Date                                                                       \n",
      "1975-01-31   35.695975    34.371830   28.937735    36.738861   15.722312   \n",
      "1975-02-28   35.896770    34.880945   29.463708    37.098962   15.775202   \n",
      "1975-03-31   36.133518    35.402217   29.959514    37.416398   15.964942   \n",
      "1975-04-30   36.425723    35.944703   30.345148    37.677813   16.275547   \n",
      "1975-05-31   36.695708    36.535272   30.546449    37.921099   16.533017   \n",
      "1975-06-30   36.823713    37.165797   30.496614    38.159640   16.646799   \n",
      "1975-07-31   36.747060    37.795450   30.173822    38.351084   16.768340   \n",
      "1975-08-31   36.511773    38.369702   29.662525    38.450073   16.989530   \n",
      "1975-09-30   36.255136    38.870586   29.128419    38.428010   17.230749   \n",
      "1975-10-31   36.139294    39.326955   28.828753    38.355341   17.447896   \n",
      "1975-11-30   36.247464    39.737259   28.941164    38.377787   17.596355   \n",
      "1975-12-31   36.592162    40.082874   29.318046    38.535310   17.725346   \n",
      "1976-01-31   37.138285    40.363154   29.704143    38.782622   17.908764   \n",
      "1976-02-29   37.756437    40.596136   29.996550    39.126083   18.117587   \n",
      "1976-03-31   38.276319    40.805885   30.171495    39.571310   18.379530   \n",
      "1976-04-30   38.596135    41.002975   30.239323    40.057999   18.673067   \n",
      "1976-05-31   38.740517    41.187715   30.235996    40.468693   18.899995   \n",
      "1976-06-30   38.797231    41.362367   30.205174    40.762886   19.131690   \n",
      "1976-07-31   38.856955    41.521685   30.199231    41.018576   19.429194   \n",
      "1976-08-31   38.918701    41.662983   30.238988    41.303581   19.725256   \n",
      "1976-09-30   38.958368    41.845067   30.305538    41.558711   20.001803   \n",
      "1976-10-31   39.018758    42.124701   30.458042    41.720393   20.297347   \n",
      "1976-11-30   39.159408    42.492789   30.688605    41.846132   20.656530   \n",
      "1976-12-31   39.316048    42.921262   30.870150    42.020453   21.011057   \n",
      "1977-01-31   39.393664    43.365812   30.977525    42.303965   21.378726   \n",
      "1977-02-28   39.416713    43.773119   31.098465    42.695391   21.859477   \n",
      "1977-03-31   39.450967    44.099249   31.332174    43.108400   22.440876   \n",
      "1977-04-30   39.609241    44.345888   31.624298    43.438706   23.016523   \n",
      "1977-05-31   39.921331    44.556381   31.875612    43.667636   23.612290   \n",
      "1977-06-30   40.340456    44.760697   32.192705    43.885294   24.210287   \n",
      "...                ...          ...         ...          ...         ...   \n",
      "2015-07-31  127.854262   175.091653  157.944488   133.701718  190.488116   \n",
      "2015-08-31  127.845969   175.514286  158.758281   134.312771  191.250750   \n",
      "2015-09-30  127.319078   175.476030  159.633744   134.697294  191.635366   \n",
      "2015-10-31  126.705007   175.123473  160.190802   134.645622  191.997776   \n",
      "2015-11-30  126.273111   174.850517  160.333155   134.201039  192.581842   \n",
      "2015-12-31  126.028940   174.694000  160.429528   133.595655  193.126772   \n",
      "2016-01-31  126.252948   174.563606  160.943495   133.108462  193.573002   \n",
      "2016-02-29  127.029795   174.653159  162.382325   133.131020  195.374776   \n",
      "2016-03-31  128.128436   175.146222  164.423535   133.875006  198.379875   \n",
      "2016-04-30  129.498282   176.039416  166.160234   135.042534  200.552706   \n",
      "2016-05-31  130.839220   177.015628  167.102940   136.229099  202.154601   \n",
      "2016-06-30  131.902611   177.488884  167.772063   137.253244  203.725125   \n",
      "2016-07-31  132.731896   177.187857  168.729972   137.861877  204.874817   \n",
      "2016-08-31  133.123014   176.366964  169.836520   137.962164  205.424770   \n",
      "2016-09-30  132.944681   175.461582  171.040902   137.792087  205.505700   \n",
      "2016-10-31  132.231221   174.851708  172.308486   137.488042  205.758167   \n",
      "2016-11-30  131.451951   174.614858  173.128501   137.319895  206.246715   \n",
      "2016-12-31  131.060867   174.607365  173.638863   137.493642  207.234460   \n",
      "2017-01-31  131.261240   174.851825  174.405886   137.827229  208.473088   \n",
      "2017-02-28  132.227038   175.522695  175.428697   138.329438  209.967934   \n",
      "2017-03-31  133.824067   176.550880  177.064431   139.192445  212.230372   \n",
      "2017-04-30  135.561296   177.793645  179.220426   140.314621  214.901573   \n",
      "2017-05-31  136.832165   178.999869  180.921174   141.510839  217.387092   \n",
      "2017-06-30  137.306662   179.910454  182.145258   142.714169  219.143801   \n",
      "2017-07-31  137.053164   180.471912  183.518737   143.620062  220.488530   \n",
      "2017-08-31  136.832464   180.767705  184.653324   143.883305  221.827303   \n",
      "2017-09-30  137.182469   180.863076  185.082101   143.810889  222.747758   \n",
      "2017-10-31  137.690921   180.642452  185.386919   143.815618  223.013716   \n",
      "2017-11-30  137.905915   180.191092  185.808730   143.715639  223.476329   \n",
      "2017-12-31  138.465286   180.140002  185.932453   143.535720  224.416791   \n",
      "\n",
      "            Value_right  Value_left  Value_right  Value_left  Value_right  \\\n",
      "Date                                                                        \n",
      "1975-01-31    19.603977   24.369431    27.264842   30.997043    30.720917   \n",
      "1975-02-28    19.837138   24.908036    27.250734   32.229049    30.450593   \n",
      "1975-03-31    20.073483   25.313556    27.268478   34.027506    30.338265   \n",
      "1975-04-30    20.301864   25.541141    27.362673   36.218077    30.401314   \n",
      "1975-05-31    20.495075   25.614056    27.561893   36.437855    30.511355   \n",
      "1975-06-30    20.657610   25.593715    27.817379   34.782271    30.543940   \n",
      "1975-07-31    20.767493   25.562141    28.054119   33.559446    30.441559   \n",
      "1975-08-31    20.766267   25.561580    28.260091   33.003501    30.197666   \n",
      "1975-09-30    20.693247   25.603379    28.435083   32.874239    29.856041   \n",
      "1975-10-31    20.677437   25.692004    28.555244   32.987685    29.578801   \n",
      "1975-11-30    20.813599   25.869720    28.633600   33.226950    29.492202   \n",
      "1975-12-31    21.044355   26.106416    28.693510   33.389483    29.544696   \n",
      "1976-01-31    21.261114   26.322159    28.724852   33.380928    29.631292   \n",
      "1976-02-29    21.441256   26.475488    28.728540   33.404365    29.652625   \n",
      "1976-03-31    21.622061   26.567976    28.738149   33.940910    29.613906   \n",
      "1976-04-30    21.794533   26.638448    28.804320   35.152678    29.645420   \n",
      "1976-05-31    21.916109   26.726320    28.901931   35.469750    29.843175   \n",
      "1976-06-30    21.990101   26.872599    28.960602   34.602640    30.244098   \n",
      "1976-07-31    22.016767   27.077422    28.970655   34.002097    30.693745   \n",
      "1976-08-31    22.004561   27.236233    28.954171   33.893909    30.930348   \n",
      "1976-09-30    22.018000   27.294271    28.937931   34.010770    30.981477   \n",
      "1976-10-31    22.153648   27.346562    28.964190   34.129382    30.941422   \n",
      "1976-11-30    22.423172   27.384624    29.066797   34.202741    30.857225   \n",
      "1976-12-31    22.708559   27.324945    29.238302   34.057553    30.799051   \n",
      "1977-01-31    22.918908   27.234680    29.450361   33.562766    30.771985   \n",
      "1977-02-28    23.086883   27.207404    29.658821   32.868590    30.797931   \n",
      "1977-03-31    23.276302   27.297209    29.804030   32.992444    30.892610   \n",
      "1977-04-30    23.543649   27.605750    29.857762   34.760749    31.053601   \n",
      "1977-05-31    23.888232   28.101364    29.844638   35.967863    31.256062   \n",
      "1977-06-30    24.298073   28.641820    29.827604   35.507634    31.478734   \n",
      "...                 ...         ...          ...         ...          ...   \n",
      "2015-07-31   156.409992  135.003216   151.879340  167.958473   123.334412   \n",
      "2015-08-31   156.823919  134.433330   151.825737  168.875805   123.576957   \n",
      "2015-09-30   156.960951  133.064906   151.956067  169.671476   123.857584   \n",
      "2015-10-31   157.103220  131.897223   152.414383  170.808945   124.119647   \n",
      "2015-11-30   157.024314  131.120324   153.091084  171.717982   124.186608   \n",
      "2015-12-31   157.329343  130.345378   153.587838  172.050554   124.304994   \n",
      "2016-01-31   158.668421  129.683540   153.780240  172.428224   124.642233   \n",
      "2016-02-29   160.916346  129.538163   153.835557  174.112903   125.355796   \n",
      "2016-03-31   163.810481  130.112376   154.034479  176.969746   126.787101   \n",
      "2016-04-30   166.832490  131.405100   154.482470  179.363828   128.916620   \n",
      "2016-05-31   169.503361  132.898431   154.924846  181.309947   130.835452   \n",
      "2016-06-30   171.405941  134.098245   155.254697  183.323405   131.894756   \n",
      "2016-07-31   172.481655  134.594061   155.417296  184.907395   132.490103   \n",
      "2016-08-31   172.906428  134.110790   155.231724  186.173544   132.668826   \n",
      "2016-09-30   173.035250  133.369966   154.728534  187.215818   132.669262   \n",
      "2016-10-31   173.194400  132.883861   154.138625  188.100468   132.768537   \n",
      "2016-11-30   173.341407  132.447694   153.660290  188.758560   132.768834   \n",
      "2016-12-31   174.042987  131.913690   153.215859  189.530763   132.754164   \n",
      "2017-01-31   175.822978  131.398494   152.988293  190.903528   133.098544   \n",
      "2017-02-28   178.360284  131.231176   153.403252  192.678481   134.083068   \n",
      "2017-03-31   181.160905  132.052608   154.676956  194.565440   135.793693   \n",
      "2017-04-30   183.686078  133.996680   156.429166  196.582167   138.033221   \n",
      "2017-05-31   185.776128  136.263447   158.092000  198.300880   139.949020   \n",
      "2017-06-30   187.490550  138.088309   159.645509  199.604161   141.039669   \n",
      "2017-07-31   188.574935  138.958521   160.924917  201.176755   141.672367   \n",
      "2017-08-31   188.890036  138.899318   161.484105  203.032387   141.979189   \n",
      "2017-09-30   189.247183  138.345405   161.214510  204.479775   141.952248   \n",
      "2017-10-31   189.973594  137.688445   160.357290  204.961848   142.181977   \n",
      "2017-11-30   190.468198  137.029819   159.215701  205.148540   143.061589   \n",
      "2017-12-31   191.251430  136.368886   158.169789  205.362563   143.590543   \n",
      "\n",
      "               ...       Value_left  Value_right  Value_left  Value_right  \\\n",
      "Date           ...                                                          \n",
      "1975-01-31     ...        37.722210    32.179633   32.602350    24.698474   \n",
      "1975-02-28     ...        37.319634    32.218599   32.944116    25.060977   \n",
      "1975-03-31     ...        36.908861    32.296539   33.542975    25.381341   \n",
      "1975-04-30     ...        36.498238    32.416385   34.402826    25.627200   \n",
      "1975-05-31     ...        36.121328    32.563209   34.649755    25.782334   \n",
      "1975-06-30     ...        35.832126    32.732091   34.214012    25.820787   \n",
      "1975-07-31     ...        35.638746    32.912254   33.926084    25.749555   \n",
      "1975-08-31     ...        35.492686    33.099345   33.892530    25.652102   \n",
      "1975-09-30     ...        35.369164    33.332385   33.975850    25.631074   \n",
      "1975-10-31     ...        35.284393    33.673101   34.088819    25.802722   \n",
      "1975-11-30     ...        35.261565    34.120824   34.297688    26.178201   \n",
      "1975-12-31     ...        35.324867    34.520063   34.495964    26.596479   \n",
      "1976-01-31     ...        35.492003    34.699256   34.624718    26.970218   \n",
      "1976-02-29     ...        35.767903    34.658689   34.927336    27.314136   \n",
      "1976-03-31     ...        36.123462    34.557665   35.656681    27.609005   \n",
      "1976-04-30     ...        36.502661    34.569333   36.676904    27.858088   \n",
      "1976-05-31     ...        36.868201    34.654483   36.983259    28.052347   \n",
      "1976-06-30     ...        37.204916    34.671962   36.591101    28.167646   \n",
      "1976-07-31     ...        37.533083    34.661585   36.396803    28.286503   \n",
      "1976-08-31     ...        37.861522    34.715717   36.393828    28.440029   \n",
      "1976-09-30     ...        38.135807    34.820331   36.488809    28.561118   \n",
      "1976-10-31     ...        38.287887    34.939022   36.707659    28.677329   \n",
      "1976-11-30     ...        38.318752    35.060959   37.017606    28.881028   \n",
      "1976-12-31     ...        38.314555    35.209322   37.236711    29.205069   \n",
      "1977-01-31     ...        38.344135    35.433821   37.416779    29.577173   \n",
      "1977-02-28     ...        38.423939    35.771078   37.856734    29.951472   \n",
      "1977-03-31     ...        38.583187    36.203085   38.898027    30.362969   \n",
      "1977-04-30     ...        38.894363    36.670053   40.557091    30.833450   \n",
      "1977-05-31     ...        39.389798    37.108822   40.866864    31.331385   \n",
      "1977-06-30     ...        40.018917    37.537473   39.888819    31.806755   \n",
      "...            ...              ...          ...         ...          ...   \n",
      "2015-07-31     ...       156.580991   140.961479  166.253040   156.041122   \n",
      "2015-08-31     ...       157.039570   141.301527  166.384353   156.625646   \n",
      "2015-09-30     ...       157.320522   141.576657  166.486297   157.212501   \n",
      "2015-10-31     ...       157.601910   141.746760  166.950363   157.717839   \n",
      "2015-11-30     ...       157.804789   141.677283  167.216055   157.944342   \n",
      "2015-12-31     ...       158.014749   141.510377  167.301727   158.211716   \n",
      "2016-01-31     ...       158.325092   141.670952  167.994033   158.958460   \n",
      "2016-02-29     ...       158.684388   142.396341  169.660774   160.090283   \n",
      "2016-03-31     ...       159.198842   143.769820  171.383514   161.744070   \n",
      "2016-04-30     ...       159.992976   145.695744  173.101986   164.133025   \n",
      "2016-05-31     ...       161.215593   147.451023  175.157348   166.372582   \n",
      "2016-06-30     ...       162.768436   148.550006  176.676004   167.867304   \n",
      "2016-07-31     ...       164.147277   149.537520  177.610891   169.110488   \n",
      "2016-08-31     ...       165.064913   150.670563  178.443113   170.034755   \n",
      "2016-09-30     ...       165.348522   151.360770  179.043491   170.376254   \n",
      "2016-10-31     ...       164.777196   151.417398  179.179408   170.180918   \n",
      "2016-11-30     ...       163.673404   151.303897  178.934777   169.756719   \n",
      "2016-12-31     ...       162.826566   151.182317  178.927591   169.753153   \n",
      "2017-01-31     ...       162.769223   151.523608  180.030701   170.849721   \n",
      "2017-02-28     ...       163.566040   152.868708  181.822975   173.144218   \n",
      "2017-03-31     ...       165.180850   154.718965  183.875660   175.942719   \n",
      "2017-04-30     ...       167.404215   156.586808  186.668802   178.605611   \n",
      "2017-05-31     ...       169.704215   158.409044  188.985902   181.052319   \n",
      "2017-06-30     ...       171.570740   159.925040  189.875120   183.239131   \n",
      "2017-07-31     ...       172.671778   161.096595  190.183635   184.835160   \n",
      "2017-08-31     ...       172.997028   162.163547  190.405956   185.766048   \n",
      "2017-09-30     ...       172.877960   163.121526  190.747517   186.219039   \n",
      "2017-10-31     ...       172.697389   163.791413  191.001095   186.565591   \n",
      "2017-11-30     ...       172.365548   164.122714  191.157777   186.978663   \n",
      "2017-12-31     ...       172.062393   164.386018  191.614575   187.437632   \n",
      "\n",
      "            Value_left  Value_right  Value_left  Value_right  Value_left  \\\n",
      "Date                                                                       \n",
      "1975-01-31   26.637620    27.912640   17.484315    41.002072   28.096764   \n",
      "1975-02-28   26.956271    28.205810   17.571053    42.040473   28.486170   \n",
      "1975-03-31   27.264731    28.420407   17.689717    43.122486   28.860737   \n",
      "1975-04-30   27.546568    28.578762   17.818792    44.239196   29.185048   \n",
      "1975-05-31   27.794738    28.717611   17.933277    45.363222   29.443523   \n",
      "1975-06-30   28.015188    28.859132   18.060595    46.434891   29.643096   \n",
      "1975-07-31   28.197133    29.053840   18.204860    47.374534   29.808953   \n",
      "1975-08-31   28.318131    29.245755   18.291957    48.123276   29.965614   \n",
      "1975-09-30   28.381090    29.299723   18.295879    48.624442   30.169332   \n",
      "1975-10-31   28.404311    29.241360   18.311491    48.844944   30.400019   \n",
      "1975-11-30   28.399731    29.147034   18.445463    48.851988   30.553751   \n",
      "1975-12-31   28.372971    29.043642   18.666300    48.756207   30.611019   \n",
      "1976-01-31   28.327242    28.966076   18.891872    48.641612   30.625870   \n",
      "1976-02-29   28.272025    29.012613   19.118606    48.590975   30.629882   \n",
      "1976-03-31   28.237516    29.197571   19.333061    48.632972   30.663396   \n",
      "1976-04-30   28.268887    29.426252   19.527588    48.709444   30.788789   \n",
      "1976-05-31   28.382876    29.670671   19.751452    48.757706   31.001631   \n",
      "1976-06-30   28.570714    29.883049   20.056070    48.750044   31.193881   \n",
      "1976-07-31   28.815406    30.025206   20.447975    48.684755   31.333897   \n",
      "1976-08-31   29.086216    30.188124   20.796144    48.596508   31.492695   \n",
      "1976-09-30   29.347313    30.353002   20.994394    48.535679   31.692007   \n",
      "1976-10-31   29.571743    30.464587   21.120745    48.520561   31.897835   \n",
      "1976-11-30   29.755778    30.575026   21.295105    48.563328   32.149092   \n",
      "1976-12-31   29.911694    30.666617   21.500396    48.696642   32.482108   \n",
      "1977-01-31   30.049640    30.741686   21.646051    48.947753   32.861943   \n",
      "1977-02-28   30.177715    30.875290   21.807327    49.306321   33.308601   \n",
      "1977-03-31   30.318482    31.092374   22.130020    49.755469   33.821916   \n",
      "1977-04-30   30.496645    31.353535   22.641429    50.300220   34.312509   \n",
      "1977-05-31   30.725822    31.656135   23.197444    50.879888   34.777626   \n",
      "1977-06-30   31.002979    31.995997   23.696735    51.405000   35.343133   \n",
      "...                ...          ...         ...          ...         ...   \n",
      "2015-07-31  166.977351   175.208724  171.715507   144.940038  127.066321   \n",
      "2015-08-31  166.931306   175.083077  172.634348   144.340557  127.091520   \n",
      "2015-09-30  166.312589   174.884369  173.077689   143.497835  126.830511   \n",
      "2015-10-31  165.433637   174.388030  173.703553   142.625716  126.614993   \n",
      "2015-11-30  164.508913   173.529003  174.419560   141.792450  126.423261   \n",
      "2015-12-31  163.750879   172.555924  174.944608   141.010233  125.795952   \n",
      "2016-01-31  163.270760   172.194878  176.039599   140.404463  125.257043   \n",
      "2016-02-29  163.115976   173.258149  178.599589   140.214876  125.748576   \n",
      "2016-03-31  163.420328   175.437539  181.944029   140.693011  127.282817   \n",
      "2016-04-30  164.366377   177.717105  185.147288   141.852391  129.212290   \n",
      "2016-05-31  165.667628   179.676544  187.923243   143.390083  131.204000   \n",
      "2016-06-30  166.947542   180.908437  190.137496   144.741295  133.077226   \n",
      "2016-07-31  167.977267   181.090826  191.804171   145.476349  134.244672   \n",
      "2016-08-31  168.363823   180.813071  192.752498   145.769855  134.523127   \n",
      "2016-09-30  167.929266   180.433431  193.007928   145.952914  134.286457   \n",
      "2016-10-31  167.044459   180.074502  193.035534   145.993389  133.977893   \n",
      "2016-11-30  166.299580   179.498081  193.437720   145.866178  133.277474   \n",
      "2016-12-31  166.037177   178.733383  194.598870   145.503670  132.395394   \n",
      "2017-01-31  166.456375   178.490562  196.425188   145.020938  132.220787   \n",
      "2017-02-28  167.550095   179.564152  199.497031   144.798504  132.799496   \n",
      "2017-03-31  169.003479   182.178128  204.099284   145.104852  134.307044   \n",
      "2017-04-30  170.668489   185.142679  208.832183   145.852604  136.736984   \n",
      "2017-05-31  172.628029   187.218160  212.681252   146.651677  139.127902   \n",
      "2017-06-30  174.593408   188.194294  215.515155   147.210051  140.945374   \n",
      "2017-07-31  175.832939   188.568619  216.832218   147.406003  141.917765   \n",
      "2017-08-31  175.997419   188.244928  217.172701   147.276040  141.929765   \n",
      "2017-09-30  175.630815   187.473673  217.666449   147.000202  141.704092   \n",
      "2017-10-31  175.438235   186.848096  218.375552   146.961577  141.524015   \n",
      "2017-11-30  175.451073   186.309152  219.358413   147.220056  141.158985   \n",
      "2017-12-31  175.676196   185.522033  220.553276   147.220398  140.521333   \n",
      "\n",
      "            Value_right  \n",
      "Date                     \n",
      "1975-01-31    31.668794  \n",
      "1975-02-28    32.161920  \n",
      "1975-03-31    32.680525  \n",
      "1975-04-30    33.210124  \n",
      "1975-05-31    33.714128  \n",
      "1975-06-30    34.179561  \n",
      "1975-07-31    34.611141  \n",
      "1975-08-31    34.997927  \n",
      "1975-09-30    35.324392  \n",
      "1975-10-31    35.564002  \n",
      "1975-11-30    35.719948  \n",
      "1975-12-31    35.823018  \n",
      "1976-01-31    35.909297  \n",
      "1976-02-29    36.027093  \n",
      "1976-03-31    36.205274  \n",
      "1976-04-30    36.448181  \n",
      "1976-05-31    36.776850  \n",
      "1976-06-30    37.232642  \n",
      "1976-07-31    37.805035  \n",
      "1976-08-31    38.417253  \n",
      "1976-09-30    39.032822  \n",
      "1976-10-31    39.656983  \n",
      "1976-11-30    40.240418  \n",
      "1976-12-31    40.708418  \n",
      "1977-01-31    41.069726  \n",
      "1977-02-28    41.390569  \n",
      "1977-03-31    41.709548  \n",
      "1977-04-30    42.040222  \n",
      "1977-05-31    42.410106  \n",
      "1977-06-30    42.887022  \n",
      "...                 ...  \n",
      "2015-07-31   187.178331  \n",
      "2015-08-31   187.544553  \n",
      "2015-09-30   187.008391  \n",
      "2015-10-31   185.978325  \n",
      "2015-11-30   184.724181  \n",
      "2015-12-31   183.614896  \n",
      "2016-01-31   183.051448  \n",
      "2016-02-29   183.203686  \n",
      "2016-03-31   184.028248  \n",
      "2016-04-30   185.243552  \n",
      "2016-05-31   186.365183  \n",
      "2016-06-30   187.224531  \n",
      "2016-07-31   187.908365  \n",
      "2016-08-31   188.408497  \n",
      "2016-09-30   188.456565  \n",
      "2016-10-31   187.794019  \n",
      "2016-11-30   186.762479  \n",
      "2016-12-31   185.998820  \n",
      "2017-01-31   185.888657  \n",
      "2017-02-28   186.457917  \n",
      "2017-03-31   187.473682  \n",
      "2017-04-30   188.748111  \n",
      "2017-05-31   190.108035  \n",
      "2017-06-30   191.201139  \n",
      "2017-07-31   191.768876  \n",
      "2017-08-31   192.013542  \n",
      "2017-09-30   192.303711  \n",
      "2017-10-31   192.746245  \n",
      "2017-11-30   193.252544  \n",
      "2017-12-31   193.557479  \n",
      "\n",
      "[516 rows x 50 columns]\n"
     ]
    }
   ],
   "source": [
    "pickle_in = open('fiddy_states.pickle','rb')\n",
    "HPI_data = pickle.load(pickle_in)\n"
   ]
  },
  {
   "cell_type": "markdown",
   "metadata": {},
   "source": [
    "### pandas pickle"
   ]
  },
  {
   "cell_type": "code",
   "execution_count": 2,
   "metadata": {},
   "outputs": [],
   "source": [
    "# main_df.to_pickle('pandas_pickle')\n",
    "HPI_data = pd.read_pickle('pandas_pickle')"
   ]
  },
  {
   "cell_type": "code",
   "execution_count": 102,
   "metadata": {},
   "outputs": [
    {
     "data": {
      "text/html": [
       "<div>\n",
       "<style scoped>\n",
       "    .dataframe tbody tr th:only-of-type {\n",
       "        vertical-align: middle;\n",
       "    }\n",
       "\n",
       "    .dataframe tbody tr th {\n",
       "        vertical-align: top;\n",
       "    }\n",
       "\n",
       "    .dataframe thead th {\n",
       "        text-align: right;\n",
       "    }\n",
       "</style>\n",
       "<table border=\"1\" class=\"dataframe\">\n",
       "  <thead>\n",
       "    <tr style=\"text-align: right;\">\n",
       "      <th></th>\n",
       "      <th>AL</th>\n",
       "      <th>AK</th>\n",
       "      <th>AZ</th>\n",
       "      <th>AR</th>\n",
       "      <th>CA</th>\n",
       "      <th>CO</th>\n",
       "      <th>CT</th>\n",
       "      <th>DE</th>\n",
       "      <th>FL</th>\n",
       "      <th>GA</th>\n",
       "      <th>...</th>\n",
       "      <th>SD</th>\n",
       "      <th>TN</th>\n",
       "      <th>TX</th>\n",
       "      <th>UT</th>\n",
       "      <th>VT</th>\n",
       "      <th>VA</th>\n",
       "      <th>WA</th>\n",
       "      <th>WV</th>\n",
       "      <th>WI</th>\n",
       "      <th>WY</th>\n",
       "    </tr>\n",
       "    <tr>\n",
       "      <th>Date</th>\n",
       "      <th></th>\n",
       "      <th></th>\n",
       "      <th></th>\n",
       "      <th></th>\n",
       "      <th></th>\n",
       "      <th></th>\n",
       "      <th></th>\n",
       "      <th></th>\n",
       "      <th></th>\n",
       "      <th></th>\n",
       "      <th></th>\n",
       "      <th></th>\n",
       "      <th></th>\n",
       "      <th></th>\n",
       "      <th></th>\n",
       "      <th></th>\n",
       "      <th></th>\n",
       "      <th></th>\n",
       "      <th></th>\n",
       "      <th></th>\n",
       "      <th></th>\n",
       "    </tr>\n",
       "  </thead>\n",
       "  <tbody>\n",
       "    <tr>\n",
       "      <th>1975-01-31</th>\n",
       "      <td>35.695975</td>\n",
       "      <td>34.371830</td>\n",
       "      <td>28.937735</td>\n",
       "      <td>36.738861</td>\n",
       "      <td>15.722312</td>\n",
       "      <td>19.603977</td>\n",
       "      <td>24.369431</td>\n",
       "      <td>27.264842</td>\n",
       "      <td>30.997043</td>\n",
       "      <td>30.720917</td>\n",
       "      <td>...</td>\n",
       "      <td>37.722210</td>\n",
       "      <td>32.179633</td>\n",
       "      <td>32.602350</td>\n",
       "      <td>24.698474</td>\n",
       "      <td>26.637620</td>\n",
       "      <td>27.912640</td>\n",
       "      <td>17.484315</td>\n",
       "      <td>41.002072</td>\n",
       "      <td>28.096764</td>\n",
       "      <td>31.668794</td>\n",
       "    </tr>\n",
       "    <tr>\n",
       "      <th>1975-02-28</th>\n",
       "      <td>35.896770</td>\n",
       "      <td>34.880945</td>\n",
       "      <td>29.463708</td>\n",
       "      <td>37.098962</td>\n",
       "      <td>15.775202</td>\n",
       "      <td>19.837138</td>\n",
       "      <td>24.908036</td>\n",
       "      <td>27.250734</td>\n",
       "      <td>32.229049</td>\n",
       "      <td>30.450593</td>\n",
       "      <td>...</td>\n",
       "      <td>37.319634</td>\n",
       "      <td>32.218599</td>\n",
       "      <td>32.944116</td>\n",
       "      <td>25.060977</td>\n",
       "      <td>26.956271</td>\n",
       "      <td>28.205810</td>\n",
       "      <td>17.571053</td>\n",
       "      <td>42.040473</td>\n",
       "      <td>28.486170</td>\n",
       "      <td>32.161920</td>\n",
       "    </tr>\n",
       "    <tr>\n",
       "      <th>1975-03-31</th>\n",
       "      <td>36.133518</td>\n",
       "      <td>35.402217</td>\n",
       "      <td>29.959514</td>\n",
       "      <td>37.416398</td>\n",
       "      <td>15.964942</td>\n",
       "      <td>20.073483</td>\n",
       "      <td>25.313556</td>\n",
       "      <td>27.268478</td>\n",
       "      <td>34.027506</td>\n",
       "      <td>30.338265</td>\n",
       "      <td>...</td>\n",
       "      <td>36.908861</td>\n",
       "      <td>32.296539</td>\n",
       "      <td>33.542975</td>\n",
       "      <td>25.381341</td>\n",
       "      <td>27.264731</td>\n",
       "      <td>28.420407</td>\n",
       "      <td>17.689717</td>\n",
       "      <td>43.122486</td>\n",
       "      <td>28.860737</td>\n",
       "      <td>32.680525</td>\n",
       "    </tr>\n",
       "    <tr>\n",
       "      <th>1975-04-30</th>\n",
       "      <td>36.425723</td>\n",
       "      <td>35.944703</td>\n",
       "      <td>30.345148</td>\n",
       "      <td>37.677813</td>\n",
       "      <td>16.275547</td>\n",
       "      <td>20.301864</td>\n",
       "      <td>25.541141</td>\n",
       "      <td>27.362673</td>\n",
       "      <td>36.218077</td>\n",
       "      <td>30.401314</td>\n",
       "      <td>...</td>\n",
       "      <td>36.498238</td>\n",
       "      <td>32.416385</td>\n",
       "      <td>34.402826</td>\n",
       "      <td>25.627200</td>\n",
       "      <td>27.546568</td>\n",
       "      <td>28.578762</td>\n",
       "      <td>17.818792</td>\n",
       "      <td>44.239196</td>\n",
       "      <td>29.185048</td>\n",
       "      <td>33.210124</td>\n",
       "    </tr>\n",
       "    <tr>\n",
       "      <th>1975-05-31</th>\n",
       "      <td>36.695708</td>\n",
       "      <td>36.535272</td>\n",
       "      <td>30.546449</td>\n",
       "      <td>37.921099</td>\n",
       "      <td>16.533017</td>\n",
       "      <td>20.495075</td>\n",
       "      <td>25.614056</td>\n",
       "      <td>27.561893</td>\n",
       "      <td>36.437855</td>\n",
       "      <td>30.511355</td>\n",
       "      <td>...</td>\n",
       "      <td>36.121328</td>\n",
       "      <td>32.563209</td>\n",
       "      <td>34.649755</td>\n",
       "      <td>25.782334</td>\n",
       "      <td>27.794738</td>\n",
       "      <td>28.717611</td>\n",
       "      <td>17.933277</td>\n",
       "      <td>45.363222</td>\n",
       "      <td>29.443523</td>\n",
       "      <td>33.714128</td>\n",
       "    </tr>\n",
       "  </tbody>\n",
       "</table>\n",
       "<p>5 rows × 50 columns</p>\n",
       "</div>"
      ],
      "text/plain": [
       "                   AL         AK         AZ         AR         CA         CO  \\\n",
       "Date                                                                           \n",
       "1975-01-31  35.695975  34.371830  28.937735  36.738861  15.722312  19.603977   \n",
       "1975-02-28  35.896770  34.880945  29.463708  37.098962  15.775202  19.837138   \n",
       "1975-03-31  36.133518  35.402217  29.959514  37.416398  15.964942  20.073483   \n",
       "1975-04-30  36.425723  35.944703  30.345148  37.677813  16.275547  20.301864   \n",
       "1975-05-31  36.695708  36.535272  30.546449  37.921099  16.533017  20.495075   \n",
       "\n",
       "                   CT         DE         FL         GA    ...             SD  \\\n",
       "Date                                                      ...                  \n",
       "1975-01-31  24.369431  27.264842  30.997043  30.720917    ...      37.722210   \n",
       "1975-02-28  24.908036  27.250734  32.229049  30.450593    ...      37.319634   \n",
       "1975-03-31  25.313556  27.268478  34.027506  30.338265    ...      36.908861   \n",
       "1975-04-30  25.541141  27.362673  36.218077  30.401314    ...      36.498238   \n",
       "1975-05-31  25.614056  27.561893  36.437855  30.511355    ...      36.121328   \n",
       "\n",
       "                   TN         TX         UT         VT         VA         WA  \\\n",
       "Date                                                                           \n",
       "1975-01-31  32.179633  32.602350  24.698474  26.637620  27.912640  17.484315   \n",
       "1975-02-28  32.218599  32.944116  25.060977  26.956271  28.205810  17.571053   \n",
       "1975-03-31  32.296539  33.542975  25.381341  27.264731  28.420407  17.689717   \n",
       "1975-04-30  32.416385  34.402826  25.627200  27.546568  28.578762  17.818792   \n",
       "1975-05-31  32.563209  34.649755  25.782334  27.794738  28.717611  17.933277   \n",
       "\n",
       "                   WV         WI         WY  \n",
       "Date                                         \n",
       "1975-01-31  41.002072  28.096764  31.668794  \n",
       "1975-02-28  42.040473  28.486170  32.161920  \n",
       "1975-03-31  43.122486  28.860737  32.680525  \n",
       "1975-04-30  44.239196  29.185048  33.210124  \n",
       "1975-05-31  45.363222  29.443523  33.714128  \n",
       "\n",
       "[5 rows x 50 columns]"
      ]
     },
     "execution_count": 102,
     "metadata": {},
     "output_type": "execute_result"
    }
   ],
   "source": [
    "HPI_data.head()"
   ]
  },
  {
   "cell_type": "code",
   "execution_count": 103,
   "metadata": {},
   "outputs": [
    {
     "data": {
      "image/png": "[encoded data removed]",
      "text/plain": [
       "<Figure size 432x288 with 1 Axes>"
      ]
     },
     "metadata": {},
     "output_type": "display_data"
    }
   ],
   "source": [
    "HPI_data.pct_change().plot()\n",
    "plt.legend().remove() # remove the legend\n",
    "plt.show()"
   ]
  },
  {
   "cell_type": "markdown",
   "metadata": {},
   "source": [
    "### resample , and label in plt.plot "
   ]
  },
  {
   "cell_type": "code",
   "execution_count": 16,
   "metadata": {},
   "outputs": [
    {
     "data": {
      "image/png": "[encoded data removed]",
      "text/plain": [
       "<Figure size 432x288 with 1 Axes>"
      ]
     },
     "metadata": {
      "needs_background": "light"
     },
     "output_type": "display_data"
    }
   ],
   "source": [
    "HPI_data['IL'].plot(label = 'Monthly')\n",
    "yearly = HPI_data['IL'].resample('A').mean()\n",
    "yearly.plot(label='Yearly')\n",
    "plt.legend()\n",
    "plt.show()"
   ]
  },
  {
   "cell_type": "markdown",
   "metadata": {},
   "source": [
    " "
   ]
  },
  {
   "cell_type": "code",
   "execution_count": 111,
   "metadata": {},
   "outputs": [
    {
     "data": {
      "image/png": "[encoded data removed]",
      "text/plain": [
       "<Figure size 432x288 with 1 Axes>"
      ]
     },
     "metadata": {},
     "output_type": "display_data"
    }
   ],
   "source": [
    "fig = plt.figure()\n",
    "ax1 = plt.subplot2grid((1,1),(0,0))\n",
    "HPI_data['TX1yr'] = HPI_data['TX'].resample('A').mean()"
   ]
  },
  {
   "cell_type": "markdown",
   "metadata": {},
   "source": [
    " #### find missing data， dropna"
   ]
  },
  {
   "cell_type": "code",
   "execution_count": 112,
   "metadata": {},
   "outputs": [],
   "source": [
    "HPI_data.dropna(inplace=True)\n",
    "HPI_data.dropna(how='all',inplace=True) # means the all row needs to be na"
   ]
  },
  {
   "cell_type": "markdown",
   "metadata": {},
   "source": [
    "###  fillna"
   ]
  },
  {
   "cell_type": "markdown",
   "metadata": {},
   "source": [
    "HPI_data.fillna(method='bfill',inplace=True)"
   ]
  },
  {
   "cell_type": "markdown",
   "metadata": {},
   "source": [
    "###  check the number of null in DataFrame"
   ]
  },
  {
   "cell_type": "code",
   "execution_count": 23,
   "metadata": {},
   "outputs": [
    {
     "name": "stdout",
     "output_type": "stream",
     "text": [
      "[[False False False ... False False  True]\n",
      " [False False False ... False False  True]\n",
      " [False False False ... False False  True]\n",
      " ...\n",
      " [False False False ... False False  True]\n",
      " [False False False ... False False  True]\n",
      " [False False False ... False False False]]\n"
     ]
    }
   ],
   "source": [
    "print(HPI_data.isnull().values)"
   ]
  },
  {
   "cell_type": "code",
   "execution_count": 26,
   "metadata": {},
   "outputs": [
    {
     "data": {
      "text/plain": [
       "Date\n",
       "1975-01-31    33.919414\n",
       "1975-02-28    33.919414\n",
       "1975-03-31    33.919414\n",
       "1975-04-30    33.919414\n",
       "1975-05-31    33.919414\n",
       "Name: TX1yr, dtype: float64"
      ]
     },
     "execution_count": 26,
     "metadata": {},
     "output_type": "execute_result"
    }
   ],
   "source": [
    "HPI_data['TX1yr'].head()"
   ]
  },
  {
   "cell_type": "markdown",
   "metadata": {},
   "source": [
    "#### rolling and subplot"
   ]
  },
  {
   "cell_type": "code",
   "execution_count": 28,
   "metadata": {},
   "outputs": [],
   "source": [
    "HPI_data['TX12MA'] = HPI_data['TX'].rolling(12).mean()"
   ]
  },
  {
   "cell_type": "code",
   "execution_count": 30,
   "metadata": {},
   "outputs": [],
   "source": [
    "HPI_data['TXCorrIL'] = HPI_data['TX'].rolling(12).corr(HPI_data['IL'])"
   ]
  },
  {
   "cell_type": "code",
   "execution_count": 31,
   "metadata": {},
   "outputs": [
    {
     "data": {
      "image/png": "[encoded data removed]",
      "text/plain": [
       "<Figure size 432x288 with 2 Axes>"
      ]
     },
     "metadata": {
      "needs_background": "light"
     },
     "output_type": "display_data"
    }
   ],
   "source": [
    "plt.figure()\n",
    "ax1 = plt.subplot2grid((2,1),(0,0))\n",
    "ax2 = plt.subplot2grid((2,1),(1,0))\n",
    "HPI_data['TX'].plot(ax = ax1)\n",
    "HPI_data['TX12MA'].plot(ax = ax1)\n",
    "HPI_data['TXCorrIL'].plot(ax = ax2)\n",
    "plt.plot()\n",
    "plt.legend()\n",
    "plt.show()"
   ]
  },
  {
   "cell_type": "code",
   "execution_count": 32,
   "metadata": {},
   "outputs": [
    {
     "data": {
      "text/plain": [
       "1.2"
      ]
     },
     "execution_count": 32,
     "metadata": {},
     "output_type": "execute_result"
    }
   ],
   "source": [
    "12/10"
   ]
  },
  {
   "cell_type": "code",
   "execution_count": 33,
   "metadata": {},
   "outputs": [
    {
     "data": {
      "text/plain": [
       "0.8333333333333334"
      ]
     },
     "execution_count": 33,
     "metadata": {},
     "output_type": "execute_result"
    }
   ],
   "source": [
    "10/12"
   ]
  },
  {
   "cell_type": "code",
   "execution_count": 34,
   "metadata": {},
   "outputs": [
    {
     "data": {
      "text/plain": [
       "pandas.core.series.Series"
      ]
     },
     "execution_count": 34,
     "metadata": {},
     "output_type": "execute_result"
    }
   ],
   "source": [
    "type(HPI_data['IL'])"
   ]
  },
  {
   "cell_type": "code",
   "execution_count": 35,
   "metadata": {},
   "outputs": [
    {
     "data": {
      "text/html": [
       "<div>\n",
       "<style scoped>\n",
       "    .dataframe tbody tr th:only-of-type {\n",
       "        vertical-align: middle;\n",
       "    }\n",
       "\n",
       "    .dataframe tbody tr th {\n",
       "        vertical-align: top;\n",
       "    }\n",
       "\n",
       "    .dataframe thead th {\n",
       "        text-align: right;\n",
       "    }\n",
       "</style>\n",
       "<table border=\"1\" class=\"dataframe\">\n",
       "  <thead>\n",
       "    <tr style=\"text-align: right;\">\n",
       "      <th></th>\n",
       "      <th>AL</th>\n",
       "      <th>AK</th>\n",
       "      <th>AZ</th>\n",
       "      <th>AR</th>\n",
       "      <th>CA</th>\n",
       "      <th>CO</th>\n",
       "      <th>CT</th>\n",
       "      <th>DE</th>\n",
       "      <th>FL</th>\n",
       "      <th>GA</th>\n",
       "      <th>...</th>\n",
       "      <th>UT</th>\n",
       "      <th>VT</th>\n",
       "      <th>VA</th>\n",
       "      <th>WA</th>\n",
       "      <th>WV</th>\n",
       "      <th>WI</th>\n",
       "      <th>WY</th>\n",
       "      <th>TX1yr</th>\n",
       "      <th>TX12MA</th>\n",
       "      <th>TXCorrIL</th>\n",
       "    </tr>\n",
       "  </thead>\n",
       "  <tbody>\n",
       "    <tr>\n",
       "      <th>count</th>\n",
       "      <td>516.000000</td>\n",
       "      <td>516.000000</td>\n",
       "      <td>516.000000</td>\n",
       "      <td>516.000000</td>\n",
       "      <td>516.000000</td>\n",
       "      <td>516.000000</td>\n",
       "      <td>516.000000</td>\n",
       "      <td>516.000000</td>\n",
       "      <td>516.000000</td>\n",
       "      <td>516.000000</td>\n",
       "      <td>...</td>\n",
       "      <td>516.000000</td>\n",
       "      <td>516.000000</td>\n",
       "      <td>516.000000</td>\n",
       "      <td>516.000000</td>\n",
       "      <td>516.000000</td>\n",
       "      <td>516.000000</td>\n",
       "      <td>516.000000</td>\n",
       "      <td>516.000000</td>\n",
       "      <td>505.000000</td>\n",
       "      <td>505.000000</td>\n",
       "    </tr>\n",
       "    <tr>\n",
       "      <th>mean</th>\n",
       "      <td>88.040519</td>\n",
       "      <td>102.875146</td>\n",
       "      <td>94.970954</td>\n",
       "      <td>91.188402</td>\n",
       "      <td>98.671997</td>\n",
       "      <td>80.396637</td>\n",
       "      <td>94.066850</td>\n",
       "      <td>96.341865</td>\n",
       "      <td>100.434160</td>\n",
       "      <td>81.165505</td>\n",
       "      <td>...</td>\n",
       "      <td>87.916219</td>\n",
       "      <td>98.709162</td>\n",
       "      <td>101.341621</td>\n",
       "      <td>91.453362</td>\n",
       "      <td>94.177539</td>\n",
       "      <td>83.990685</td>\n",
       "      <td>102.221214</td>\n",
       "      <td>94.186471</td>\n",
       "      <td>93.799809</td>\n",
       "      <td>0.611576</td>\n",
       "    </tr>\n",
       "    <tr>\n",
       "      <th>std</th>\n",
       "      <td>30.895907</td>\n",
       "      <td>42.747525</td>\n",
       "      <td>46.529913</td>\n",
       "      <td>30.793567</td>\n",
       "      <td>59.588989</td>\n",
       "      <td>42.734426</td>\n",
       "      <td>41.049448</td>\n",
       "      <td>46.746919</td>\n",
       "      <td>51.468212</td>\n",
       "      <td>31.435406</td>\n",
       "      <td>...</td>\n",
       "      <td>43.309020</td>\n",
       "      <td>48.512703</td>\n",
       "      <td>52.213532</td>\n",
       "      <td>52.939313</td>\n",
       "      <td>31.453524</td>\n",
       "      <td>35.667761</td>\n",
       "      <td>49.971635</td>\n",
       "      <td>36.976253</td>\n",
       "      <td>35.449518</td>\n",
       "      <td>0.560624</td>\n",
       "    </tr>\n",
       "    <tr>\n",
       "      <th>min</th>\n",
       "      <td>35.695975</td>\n",
       "      <td>34.371830</td>\n",
       "      <td>28.828753</td>\n",
       "      <td>36.738861</td>\n",
       "      <td>15.722312</td>\n",
       "      <td>19.603977</td>\n",
       "      <td>24.369431</td>\n",
       "      <td>27.250734</td>\n",
       "      <td>30.997043</td>\n",
       "      <td>29.492202</td>\n",
       "      <td>...</td>\n",
       "      <td>24.698474</td>\n",
       "      <td>26.637620</td>\n",
       "      <td>27.912640</td>\n",
       "      <td>17.484315</td>\n",
       "      <td>41.002072</td>\n",
       "      <td>28.096764</td>\n",
       "      <td>31.668794</td>\n",
       "      <td>33.919414</td>\n",
       "      <td>33.919414</td>\n",
       "      <td>-0.998078</td>\n",
       "    </tr>\n",
       "    <tr>\n",
       "      <th>25%</th>\n",
       "      <td>60.916431</td>\n",
       "      <td>71.475014</td>\n",
       "      <td>62.734450</td>\n",
       "      <td>67.407430</td>\n",
       "      <td>47.367816</td>\n",
       "      <td>44.712150</td>\n",
       "      <td>60.955424</td>\n",
       "      <td>53.015365</td>\n",
       "      <td>61.731919</td>\n",
       "      <td>56.522367</td>\n",
       "      <td>...</td>\n",
       "      <td>49.522837</td>\n",
       "      <td>53.397704</td>\n",
       "      <td>55.762064</td>\n",
       "      <td>40.996435</td>\n",
       "      <td>65.945999</td>\n",
       "      <td>47.869298</td>\n",
       "      <td>62.073576</td>\n",
       "      <td>69.103741</td>\n",
       "      <td>69.214143</td>\n",
       "      <td>0.531924</td>\n",
       "    </tr>\n",
       "    <tr>\n",
       "      <th>50%</th>\n",
       "      <td>87.341799</td>\n",
       "      <td>88.013799</td>\n",
       "      <td>80.296267</td>\n",
       "      <td>89.043207</td>\n",
       "      <td>77.996474</td>\n",
       "      <td>70.600083</td>\n",
       "      <td>91.164669</td>\n",
       "      <td>83.426668</td>\n",
       "      <td>80.156046</td>\n",
       "      <td>77.610004</td>\n",
       "      <td>...</td>\n",
       "      <td>89.368114</td>\n",
       "      <td>83.988848</td>\n",
       "      <td>81.971000</td>\n",
       "      <td>79.396954</td>\n",
       "      <td>90.354033</td>\n",
       "      <td>82.892474</td>\n",
       "      <td>86.606176</td>\n",
       "      <td>80.045480</td>\n",
       "      <td>80.045480</td>\n",
       "      <td>0.888300</td>\n",
       "    </tr>\n",
       "    <tr>\n",
       "      <th>75%</th>\n",
       "      <td>116.723347</td>\n",
       "      <td>153.694925</td>\n",
       "      <td>122.786745</td>\n",
       "      <td>124.525276</td>\n",
       "      <td>138.804713</td>\n",
       "      <td>116.201648</td>\n",
       "      <td>132.079228</td>\n",
       "      <td>144.967509</td>\n",
       "      <td>132.580171</td>\n",
       "      <td>108.470575</td>\n",
       "      <td>...</td>\n",
       "      <td>124.225501</td>\n",
       "      <td>157.371924</td>\n",
       "      <td>157.806065</td>\n",
       "      <td>134.275215</td>\n",
       "      <td>129.636726</td>\n",
       "      <td>119.385653</td>\n",
       "      <td>161.936971</td>\n",
       "      <td>125.911305</td>\n",
       "      <td>125.984366</td>\n",
       "      <td>0.972274</td>\n",
       "    </tr>\n",
       "    <tr>\n",
       "      <th>max</th>\n",
       "      <td>138.465286</td>\n",
       "      <td>180.863076</td>\n",
       "      <td>205.359961</td>\n",
       "      <td>143.883305</td>\n",
       "      <td>224.416791</td>\n",
       "      <td>191.251430</td>\n",
       "      <td>165.816399</td>\n",
       "      <td>177.933370</td>\n",
       "      <td>224.523335</td>\n",
       "      <td>143.590543</td>\n",
       "      <td>...</td>\n",
       "      <td>187.437632</td>\n",
       "      <td>175.997419</td>\n",
       "      <td>192.411644</td>\n",
       "      <td>220.553276</td>\n",
       "      <td>147.406003</td>\n",
       "      <td>141.929765</td>\n",
       "      <td>193.557479</td>\n",
       "      <td>188.030810</td>\n",
       "      <td>188.030810</td>\n",
       "      <td>0.997858</td>\n",
       "    </tr>\n",
       "  </tbody>\n",
       "</table>\n",
       "<p>8 rows × 53 columns</p>\n",
       "</div>"
      ],
      "text/plain": [
       "               AL          AK          AZ          AR          CA          CO  \\\n",
       "count  516.000000  516.000000  516.000000  516.000000  516.000000  516.000000   \n",
       "mean    88.040519  102.875146   94.970954   91.188402   98.671997   80.396637   \n",
       "std     30.895907   42.747525   46.529913   30.793567   59.588989   42.734426   \n",
       "min     35.695975   34.371830   28.828753   36.738861   15.722312   19.603977   \n",
       "25%     60.916431   71.475014   62.734450   67.407430   47.367816   44.712150   \n",
       "50%     87.341799   88.013799   80.296267   89.043207   77.996474   70.600083   \n",
       "75%    116.723347  153.694925  122.786745  124.525276  138.804713  116.201648   \n",
       "max    138.465286  180.863076  205.359961  143.883305  224.416791  191.251430   \n",
       "\n",
       "               CT          DE          FL          GA     ...              UT  \\\n",
       "count  516.000000  516.000000  516.000000  516.000000     ...      516.000000   \n",
       "mean    94.066850   96.341865  100.434160   81.165505     ...       87.916219   \n",
       "std     41.049448   46.746919   51.468212   31.435406     ...       43.309020   \n",
       "min     24.369431   27.250734   30.997043   29.492202     ...       24.698474   \n",
       "25%     60.955424   53.015365   61.731919   56.522367     ...       49.522837   \n",
       "50%     91.164669   83.426668   80.156046   77.610004     ...       89.368114   \n",
       "75%    132.079228  144.967509  132.580171  108.470575     ...      124.225501   \n",
       "max    165.816399  177.933370  224.523335  143.590543     ...      187.437632   \n",
       "\n",
       "               VT          VA          WA          WV          WI          WY  \\\n",
       "count  516.000000  516.000000  516.000000  516.000000  516.000000  516.000000   \n",
       "mean    98.709162  101.341621   91.453362   94.177539   83.990685  102.221214   \n",
       "std     48.512703   52.213532   52.939313   31.453524   35.667761   49.971635   \n",
       "min     26.637620   27.912640   17.484315   41.002072   28.096764   31.668794   \n",
       "25%     53.397704   55.762064   40.996435   65.945999   47.869298   62.073576   \n",
       "50%     83.988848   81.971000   79.396954   90.354033   82.892474   86.606176   \n",
       "75%    157.371924  157.806065  134.275215  129.636726  119.385653  161.936971   \n",
       "max    175.997419  192.411644  220.553276  147.406003  141.929765  193.557479   \n",
       "\n",
       "            TX1yr      TX12MA    TXCorrIL  \n",
       "count  516.000000  505.000000  505.000000  \n",
       "mean    94.186471   93.799809    0.611576  \n",
       "std     36.976253   35.449518    0.560624  \n",
       "min     33.919414   33.919414   -0.998078  \n",
       "25%     69.103741   69.214143    0.531924  \n",
       "50%     80.045480   80.045480    0.888300  \n",
       "75%    125.911305  125.984366    0.972274  \n",
       "max    188.030810  188.030810    0.997858  \n",
       "\n",
       "[8 rows x 53 columns]"
      ]
     },
     "execution_count": 35,
     "metadata": {},
     "output_type": "execute_result"
    }
   ],
   "source": [
    "HPI_data.describe()"
   ]
  },
  {
   "cell_type": "markdown",
   "metadata": {},
   "source": [
    "### delete erronous data"
   ]
  },
  {
   "cell_type": "code",
   "execution_count": 113,
   "metadata": {},
   "outputs": [],
   "source": [
    "bridge_height = {'meters':[10.26, 10.31, 10.27, 10.22, 10.23, 6212.42, 10.28, 10.25, 10.31]}\n",
    "df = pd.DataFrame(bridge_height)"
   ]
  },
  {
   "cell_type": "code",
   "execution_count": 114,
   "metadata": {},
   "outputs": [
    {
     "data": {
      "image/png": "[encoded data removed]",
      "text/plain": [
       "<Figure size 432x288 with 1 Axes>"
      ]
     },
     "metadata": {},
     "output_type": "display_data"
    }
   ],
   "source": [
    "df.plot()\n",
    "plt.show()"
   ]
  },
  {
   "cell_type": "code",
   "execution_count": 115,
   "metadata": {},
   "outputs": [],
   "source": [
    "df['Std'] = df.rolling(2).std()"
   ]
  },
  {
   "cell_type": "code",
   "execution_count": 116,
   "metadata": {},
   "outputs": [
    {
     "data": {
      "image/png": "[encoded data removed]",
      "text/plain": [
       "<Figure size 432x288 with 1 Axes>"
      ]
     },
     "metadata": {},
     "output_type": "display_data"
    }
   ],
   "source": [
    "df.plot()\n",
    "plt.show()"
   ]
  },
  {
   "cell_type": "code",
   "execution_count": 117,
   "metadata": {},
   "outputs": [],
   "source": [
    "df_des = df.describe()"
   ]
  },
  {
   "cell_type": "code",
   "execution_count": 118,
   "metadata": {},
   "outputs": [
    {
     "data": {
      "text/html": [
       "<div>\n",
       "<style scoped>\n",
       "    .dataframe tbody tr th:only-of-type {\n",
       "        vertical-align: middle;\n",
       "    }\n",
       "\n",
       "    .dataframe tbody tr th {\n",
       "        vertical-align: top;\n",
       "    }\n",
       "\n",
       "    .dataframe thead th {\n",
       "        text-align: right;\n",
       "    }\n",
       "</style>\n",
       "<table border=\"1\" class=\"dataframe\">\n",
       "  <thead>\n",
       "    <tr style=\"text-align: right;\">\n",
       "      <th></th>\n",
       "      <th>meters</th>\n",
       "      <th>Std</th>\n",
       "    </tr>\n",
       "  </thead>\n",
       "  <tbody>\n",
       "    <tr>\n",
       "      <th>count</th>\n",
       "      <td>9.000000</td>\n",
       "      <td>8.000000</td>\n",
       "    </tr>\n",
       "    <tr>\n",
       "      <th>mean</th>\n",
       "      <td>699.394444</td>\n",
       "      <td>1096.419446</td>\n",
       "    </tr>\n",
       "    <tr>\n",
       "      <th>std</th>\n",
       "      <td>2067.384584</td>\n",
       "      <td>2030.121949</td>\n",
       "    </tr>\n",
       "    <tr>\n",
       "      <th>min</th>\n",
       "      <td>10.220000</td>\n",
       "      <td>0.007071</td>\n",
       "    </tr>\n",
       "    <tr>\n",
       "      <th>25%</th>\n",
       "      <td>10.250000</td>\n",
       "      <td>0.026516</td>\n",
       "    </tr>\n",
       "    <tr>\n",
       "      <th>50%</th>\n",
       "      <td>10.270000</td>\n",
       "      <td>0.035355</td>\n",
       "    </tr>\n",
       "    <tr>\n",
       "      <th>75%</th>\n",
       "      <td>10.310000</td>\n",
       "      <td>1096.425633</td>\n",
       "    </tr>\n",
       "    <tr>\n",
       "      <th>max</th>\n",
       "      <td>6212.420000</td>\n",
       "      <td>4385.610607</td>\n",
       "    </tr>\n",
       "  </tbody>\n",
       "</table>\n",
       "</div>"
      ],
      "text/plain": [
       "            meters          Std\n",
       "count     9.000000     8.000000\n",
       "mean    699.394444  1096.419446\n",
       "std    2067.384584  2030.121949\n",
       "min      10.220000     0.007071\n",
       "25%      10.250000     0.026516\n",
       "50%      10.270000     0.035355\n",
       "75%      10.310000  1096.425633\n",
       "max    6212.420000  4385.610607"
      ]
     },
     "execution_count": 118,
     "metadata": {},
     "output_type": "execute_result"
    }
   ],
   "source": [
    "df_des"
   ]
  },
  {
   "cell_type": "code",
   "execution_count": 119,
   "metadata": {},
   "outputs": [
    {
     "data": {
      "text/plain": [
       "2067.3845835687607"
      ]
     },
     "execution_count": 119,
     "metadata": {},
     "output_type": "execute_result"
    }
   ],
   "source": [
    "df_des['meters']['std']"
   ]
  },
  {
   "cell_type": "code",
   "execution_count": 48,
   "metadata": {},
   "outputs": [
    {
     "data": {
      "text/html": [
       "<div>\n",
       "<style scoped>\n",
       "    .dataframe tbody tr th:only-of-type {\n",
       "        vertical-align: middle;\n",
       "    }\n",
       "\n",
       "    .dataframe tbody tr th {\n",
       "        vertical-align: top;\n",
       "    }\n",
       "\n",
       "    .dataframe thead th {\n",
       "        text-align: right;\n",
       "    }\n",
       "</style>\n",
       "<table border=\"1\" class=\"dataframe\">\n",
       "  <thead>\n",
       "    <tr style=\"text-align: right;\">\n",
       "      <th></th>\n",
       "      <th>meters</th>\n",
       "      <th>Std</th>\n",
       "    </tr>\n",
       "  </thead>\n",
       "  <tbody>\n",
       "    <tr>\n",
       "      <th>1</th>\n",
       "      <td>10.31</td>\n",
       "      <td>0.035355</td>\n",
       "    </tr>\n",
       "    <tr>\n",
       "      <th>2</th>\n",
       "      <td>10.27</td>\n",
       "      <td>0.028284</td>\n",
       "    </tr>\n",
       "    <tr>\n",
       "      <th>3</th>\n",
       "      <td>10.22</td>\n",
       "      <td>0.035355</td>\n",
       "    </tr>\n",
       "    <tr>\n",
       "      <th>4</th>\n",
       "      <td>10.23</td>\n",
       "      <td>0.007071</td>\n",
       "    </tr>\n",
       "    <tr>\n",
       "      <th>7</th>\n",
       "      <td>10.25</td>\n",
       "      <td>0.021213</td>\n",
       "    </tr>\n",
       "    <tr>\n",
       "      <th>8</th>\n",
       "      <td>10.31</td>\n",
       "      <td>0.042426</td>\n",
       "    </tr>\n",
       "  </tbody>\n",
       "</table>\n",
       "</div>"
      ],
      "text/plain": [
       "   meters       Std\n",
       "1   10.31  0.035355\n",
       "2   10.27  0.028284\n",
       "3   10.22  0.035355\n",
       "4   10.23  0.007071\n",
       "7   10.25  0.021213\n",
       "8   10.31  0.042426"
      ]
     },
     "execution_count": 48,
     "metadata": {},
     "output_type": "execute_result"
    }
   ],
   "source": [
    "df[df['Std']<df_des['meters']['std']]"
   ]
  },
  {
   "cell_type": "code",
   "execution_count": 49,
   "metadata": {},
   "outputs": [
    {
     "data": {
      "text/html": [
       "<div>\n",
       "<style scoped>\n",
       "    .dataframe tbody tr th:only-of-type {\n",
       "        vertical-align: middle;\n",
       "    }\n",
       "\n",
       "    .dataframe tbody tr th {\n",
       "        vertical-align: top;\n",
       "    }\n",
       "\n",
       "    .dataframe thead th {\n",
       "        text-align: right;\n",
       "    }\n",
       "</style>\n",
       "<table border=\"1\" class=\"dataframe\">\n",
       "  <thead>\n",
       "    <tr style=\"text-align: right;\">\n",
       "      <th></th>\n",
       "      <th>meters</th>\n",
       "      <th>Std</th>\n",
       "    </tr>\n",
       "  </thead>\n",
       "  <tbody>\n",
       "    <tr>\n",
       "      <th>0</th>\n",
       "      <td>10.26</td>\n",
       "      <td>NaN</td>\n",
       "    </tr>\n",
       "    <tr>\n",
       "      <th>1</th>\n",
       "      <td>10.31</td>\n",
       "      <td>0.035355</td>\n",
       "    </tr>\n",
       "    <tr>\n",
       "      <th>2</th>\n",
       "      <td>10.27</td>\n",
       "      <td>0.028284</td>\n",
       "    </tr>\n",
       "    <tr>\n",
       "      <th>3</th>\n",
       "      <td>10.22</td>\n",
       "      <td>0.035355</td>\n",
       "    </tr>\n",
       "    <tr>\n",
       "      <th>4</th>\n",
       "      <td>10.23</td>\n",
       "      <td>0.007071</td>\n",
       "    </tr>\n",
       "    <tr>\n",
       "      <th>5</th>\n",
       "      <td>6212.42</td>\n",
       "      <td>4385.610607</td>\n",
       "    </tr>\n",
       "    <tr>\n",
       "      <th>6</th>\n",
       "      <td>10.28</td>\n",
       "      <td>4385.575252</td>\n",
       "    </tr>\n",
       "    <tr>\n",
       "      <th>7</th>\n",
       "      <td>10.25</td>\n",
       "      <td>0.021213</td>\n",
       "    </tr>\n",
       "    <tr>\n",
       "      <th>8</th>\n",
       "      <td>10.31</td>\n",
       "      <td>0.042426</td>\n",
       "    </tr>\n",
       "  </tbody>\n",
       "</table>\n",
       "</div>"
      ],
      "text/plain": [
       "    meters          Std\n",
       "0    10.26          NaN\n",
       "1    10.31     0.035355\n",
       "2    10.27     0.028284\n",
       "3    10.22     0.035355\n",
       "4    10.23     0.007071\n",
       "5  6212.42  4385.610607\n",
       "6    10.28  4385.575252\n",
       "7    10.25     0.021213\n",
       "8    10.31     0.042426"
      ]
     },
     "execution_count": 49,
     "metadata": {},
     "output_type": "execute_result"
    }
   ],
   "source": [
    "df"
   ]
  },
  {
   "cell_type": "markdown",
   "metadata": {},
   "source": [
    "## join 30 years mortgage rate"
   ]
  },
  {
   "cell_type": "code",
   "execution_count": 180,
   "metadata": {},
   "outputs": [],
   "source": [
    "def mortgage30():\n",
    "    df = quandl.get(\"FMAC/MORTG\", trim_start=\"1975-01-01\",api_key='VU2KfDTTpaSJXc8e84iv')\n",
    "#     df['Value'] = df['Value'].pct_change()\n",
    "    df[\"Value\"] = (df[\"Value\"]-df[\"Value\"][0]) / df[\"Value\"][0] * 100.0\n",
    "    df['Value'].fillna(0,inplace = True)\n",
    "    df = df.resample(\"1D\").interpolate()\n",
    "    df = df.resample(\"M\").interpolate()\n",
    "    return df"
   ]
  },
  {
   "cell_type": "code",
   "execution_count": 181,
   "metadata": {},
   "outputs": [],
   "source": [
    "m30 = mortgage30()"
   ]
  },
  {
   "cell_type": "code",
   "execution_count": 183,
   "metadata": {},
   "outputs": [],
   "source": [
    "HPI_Bench = HPI_data.join(m30)"
   ]
  },
  {
   "cell_type": "code",
   "execution_count": 188,
   "metadata": {},
   "outputs": [
    {
     "data": {
      "text/plain": [
       "count    52.000000\n",
       "mean     -0.752350\n",
       "std       0.251593\n",
       "min      -0.838535\n",
       "25%      -0.815902\n",
       "50%      -0.798394\n",
       "75%      -0.768405\n",
       "max       1.000000\n",
       "Name: Value, dtype: float64"
      ]
     },
     "execution_count": 188,
     "metadata": {},
     "output_type": "execute_result"
    }
   ],
   "source": [
    "HPI_Bench.corr()[\"Value\"].describe()"
   ]
  },
  {
   "cell_type": "markdown",
   "metadata": {},
   "source": [
    "## Map preprocessing.scale"
   ]
  },
  {
   "cell_type": "code",
   "execution_count": 189,
   "metadata": {},
   "outputs": [
    {
     "ename": "NameError",
     "evalue": "name 'preprocessing' is not defined",
     "output_type": "error",
     "traceback": [
      "\u001b[0;31m---------------------------------------------------------------------------\u001b[0m",
      "\u001b[0;31mNameError\u001b[0m                                 Traceback (most recent call last)",
      "\u001b[0;32m<ipython-input-189-71aff2e80e47>\u001b[0m in \u001b[0;36m<module>\u001b[0;34m()\u001b[0m\n\u001b[0;32m----> 1\u001b[0;31m \u001b[0ma\u001b[0m \u001b[0;34m=\u001b[0m \u001b[0mpreprocessing\u001b[0m\u001b[0;34m.\u001b[0m\u001b[0mscale\u001b[0m\u001b[0;34m(\u001b[0m\u001b[0mHPI_data\u001b[0m\u001b[0;34m[\u001b[0m\u001b[0;34m:\u001b[0m\u001b[0;36m10\u001b[0m\u001b[0;34m]\u001b[0m \u001b[0;34m)\u001b[0m\u001b[0;34m\u001b[0m\u001b[0m\n\u001b[0m",
      "\u001b[0;31mNameError\u001b[0m: name 'preprocessing' is not defined"
     ]
    }
   ],
   "source": []
  },
  {
   "cell_type": "code",
   "execution_count": null,
   "metadata": {},
   "outputs": [],
   "source": []
  }
 ],
 "metadata": {
  "kernelspec": {
   "display_name": "Python 3",
   "language": "python",
   "name": "python3"
  },
  "language_info": {
   "codemirror_mode": {
    "name": "ipython",
    "version": 3
   },
   "file_extension": ".py",
   "mimetype": "text/x-python",
   "name": "python",
   "nbconvert_exporter": "python",
   "pygments_lexer": "ipython3",
   "version": "3.5.5"
  }
 },
 "nbformat": 4,
 "nbformat_minor": 2
}
